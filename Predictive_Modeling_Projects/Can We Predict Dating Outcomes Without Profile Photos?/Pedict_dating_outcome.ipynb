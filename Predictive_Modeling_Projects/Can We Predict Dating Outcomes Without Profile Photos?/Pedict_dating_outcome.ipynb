{
 "cells": [
  {
   "cell_type": "code",
   "execution_count": 7,
   "id": "d8d0f225-ceb8-4b9b-961f-4463c82a83a0",
   "metadata": {},
   "outputs": [
    {
     "name": "stdout",
     "output_type": "stream",
     "text": [
      "Requirement already satisfied: scikit-learn in /opt/homebrew/lib/python3.10/site-packages (1.7.1)\n",
      "Requirement already satisfied: xgboost in /opt/homebrew/lib/python3.10/site-packages (3.0.4)\n",
      "Requirement already satisfied: tensorflow-macos in /opt/homebrew/lib/python3.10/site-packages (2.16.2)\n",
      "Requirement already satisfied: seaborn in /opt/homebrew/lib/python3.10/site-packages (0.13.2)\n",
      "Requirement already satisfied: matplotlib in /opt/homebrew/lib/python3.10/site-packages (3.10.5)\n",
      "Requirement already satisfied: pandas in /opt/homebrew/lib/python3.10/site-packages (2.3.1)\n",
      "Requirement already satisfied: numpy>=1.22.0 in /opt/homebrew/lib/python3.10/site-packages (from scikit-learn) (1.26.4)\n",
      "Requirement already satisfied: scipy>=1.8.0 in /opt/homebrew/lib/python3.10/site-packages (from scikit-learn) (1.15.3)\n",
      "Requirement already satisfied: joblib>=1.2.0 in /opt/homebrew/lib/python3.10/site-packages (from scikit-learn) (1.5.1)\n",
      "Requirement already satisfied: threadpoolctl>=3.1.0 in /opt/homebrew/lib/python3.10/site-packages (from scikit-learn) (3.6.0)\n",
      "Requirement already satisfied: tensorflow==2.16.2 in /opt/homebrew/lib/python3.10/site-packages (from tensorflow-macos) (2.16.2)\n",
      "Requirement already satisfied: absl-py>=1.0.0 in /opt/homebrew/lib/python3.10/site-packages (from tensorflow==2.16.2->tensorflow-macos) (2.3.1)\n",
      "Requirement already satisfied: astunparse>=1.6.0 in /opt/homebrew/lib/python3.10/site-packages (from tensorflow==2.16.2->tensorflow-macos) (1.6.3)\n",
      "Requirement already satisfied: flatbuffers>=23.5.26 in /opt/homebrew/lib/python3.10/site-packages (from tensorflow==2.16.2->tensorflow-macos) (25.2.10)\n",
      "Requirement already satisfied: gast!=0.5.0,!=0.5.1,!=0.5.2,>=0.2.1 in /opt/homebrew/lib/python3.10/site-packages (from tensorflow==2.16.2->tensorflow-macos) (0.6.0)\n",
      "Requirement already satisfied: google-pasta>=0.1.1 in /opt/homebrew/lib/python3.10/site-packages (from tensorflow==2.16.2->tensorflow-macos) (0.2.0)\n",
      "Requirement already satisfied: h5py>=3.10.0 in /opt/homebrew/lib/python3.10/site-packages (from tensorflow==2.16.2->tensorflow-macos) (3.14.0)\n",
      "Requirement already satisfied: libclang>=13.0.0 in /opt/homebrew/lib/python3.10/site-packages (from tensorflow==2.16.2->tensorflow-macos) (18.1.1)\n",
      "Requirement already satisfied: ml-dtypes~=0.3.1 in /opt/homebrew/lib/python3.10/site-packages (from tensorflow==2.16.2->tensorflow-macos) (0.3.2)\n",
      "Requirement already satisfied: opt-einsum>=2.3.2 in /opt/homebrew/lib/python3.10/site-packages (from tensorflow==2.16.2->tensorflow-macos) (3.4.0)\n",
      "Requirement already satisfied: packaging in /opt/homebrew/lib/python3.10/site-packages (from tensorflow==2.16.2->tensorflow-macos) (25.0)\n",
      "Requirement already satisfied: protobuf!=4.21.0,!=4.21.1,!=4.21.2,!=4.21.3,!=4.21.4,!=4.21.5,<5.0.0dev,>=3.20.3 in /opt/homebrew/lib/python3.10/site-packages (from tensorflow==2.16.2->tensorflow-macos) (4.25.8)\n",
      "Requirement already satisfied: requests<3,>=2.21.0 in /opt/homebrew/lib/python3.10/site-packages (from tensorflow==2.16.2->tensorflow-macos) (2.32.4)\n",
      "Requirement already satisfied: setuptools in /opt/homebrew/lib/python3.10/site-packages (from tensorflow==2.16.2->tensorflow-macos) (80.9.0)\n",
      "Requirement already satisfied: six>=1.12.0 in /opt/homebrew/lib/python3.10/site-packages (from tensorflow==2.16.2->tensorflow-macos) (1.17.0)\n",
      "Requirement already satisfied: termcolor>=1.1.0 in /opt/homebrew/lib/python3.10/site-packages (from tensorflow==2.16.2->tensorflow-macos) (3.1.0)\n",
      "Requirement already satisfied: typing-extensions>=3.6.6 in /opt/homebrew/lib/python3.10/site-packages (from tensorflow==2.16.2->tensorflow-macos) (4.14.1)\n",
      "Requirement already satisfied: wrapt>=1.11.0 in /opt/homebrew/lib/python3.10/site-packages (from tensorflow==2.16.2->tensorflow-macos) (1.17.2)\n",
      "Requirement already satisfied: grpcio<2.0,>=1.24.3 in /opt/homebrew/lib/python3.10/site-packages (from tensorflow==2.16.2->tensorflow-macos) (1.74.0)\n",
      "Requirement already satisfied: tensorboard<2.17,>=2.16 in /opt/homebrew/lib/python3.10/site-packages (from tensorflow==2.16.2->tensorflow-macos) (2.16.2)\n",
      "Requirement already satisfied: keras>=3.0.0 in /opt/homebrew/lib/python3.10/site-packages (from tensorflow==2.16.2->tensorflow-macos) (3.10.0)\n",
      "Requirement already satisfied: tensorflow-io-gcs-filesystem>=0.23.1 in /opt/homebrew/lib/python3.10/site-packages (from tensorflow==2.16.2->tensorflow-macos) (0.37.1)\n",
      "Requirement already satisfied: charset_normalizer<4,>=2 in /opt/homebrew/lib/python3.10/site-packages (from requests<3,>=2.21.0->tensorflow==2.16.2->tensorflow-macos) (3.4.2)\n",
      "Requirement already satisfied: idna<4,>=2.5 in /opt/homebrew/lib/python3.10/site-packages (from requests<3,>=2.21.0->tensorflow==2.16.2->tensorflow-macos) (3.10)\n",
      "Requirement already satisfied: urllib3<3,>=1.21.1 in /opt/homebrew/lib/python3.10/site-packages (from requests<3,>=2.21.0->tensorflow==2.16.2->tensorflow-macos) (2.5.0)\n",
      "Requirement already satisfied: certifi>=2017.4.17 in /opt/homebrew/lib/python3.10/site-packages (from requests<3,>=2.21.0->tensorflow==2.16.2->tensorflow-macos) (2025.7.14)\n",
      "Requirement already satisfied: markdown>=2.6.8 in /opt/homebrew/lib/python3.10/site-packages (from tensorboard<2.17,>=2.16->tensorflow==2.16.2->tensorflow-macos) (3.8.2)\n",
      "Requirement already satisfied: tensorboard-data-server<0.8.0,>=0.7.0 in /opt/homebrew/lib/python3.10/site-packages (from tensorboard<2.17,>=2.16->tensorflow==2.16.2->tensorflow-macos) (0.7.2)\n",
      "Requirement already satisfied: werkzeug>=1.0.1 in /opt/homebrew/lib/python3.10/site-packages (from tensorboard<2.17,>=2.16->tensorflow==2.16.2->tensorflow-macos) (3.1.3)\n",
      "Requirement already satisfied: contourpy>=1.0.1 in /opt/homebrew/lib/python3.10/site-packages (from matplotlib) (1.3.2)\n",
      "Requirement already satisfied: cycler>=0.10 in /opt/homebrew/lib/python3.10/site-packages (from matplotlib) (0.12.1)\n",
      "Requirement already satisfied: fonttools>=4.22.0 in /opt/homebrew/lib/python3.10/site-packages (from matplotlib) (4.59.0)\n",
      "Requirement already satisfied: kiwisolver>=1.3.1 in /opt/homebrew/lib/python3.10/site-packages (from matplotlib) (1.4.8)\n",
      "Requirement already satisfied: pillow>=8 in /opt/homebrew/lib/python3.10/site-packages (from matplotlib) (11.3.0)\n",
      "Requirement already satisfied: pyparsing>=2.3.1 in /opt/homebrew/lib/python3.10/site-packages (from matplotlib) (3.2.3)\n",
      "Requirement already satisfied: python-dateutil>=2.7 in /opt/homebrew/lib/python3.10/site-packages (from matplotlib) (2.9.0.post0)\n",
      "Requirement already satisfied: pytz>=2020.1 in /opt/homebrew/lib/python3.10/site-packages (from pandas) (2025.2)\n",
      "Requirement already satisfied: tzdata>=2022.7 in /opt/homebrew/lib/python3.10/site-packages (from pandas) (2025.2)\n",
      "Requirement already satisfied: wheel<1.0,>=0.23.0 in /opt/homebrew/lib/python3.10/site-packages (from astunparse>=1.6.0->tensorflow==2.16.2->tensorflow-macos) (0.45.1)\n",
      "Requirement already satisfied: rich in /opt/homebrew/lib/python3.10/site-packages (from keras>=3.0.0->tensorflow==2.16.2->tensorflow-macos) (14.1.0)\n",
      "Requirement already satisfied: namex in /opt/homebrew/lib/python3.10/site-packages (from keras>=3.0.0->tensorflow==2.16.2->tensorflow-macos) (0.1.0)\n",
      "Requirement already satisfied: optree in /opt/homebrew/lib/python3.10/site-packages (from keras>=3.0.0->tensorflow==2.16.2->tensorflow-macos) (0.17.0)\n",
      "Requirement already satisfied: MarkupSafe>=2.1.1 in /opt/homebrew/lib/python3.10/site-packages (from werkzeug>=1.0.1->tensorboard<2.17,>=2.16->tensorflow==2.16.2->tensorflow-macos) (3.0.2)\n",
      "Requirement already satisfied: markdown-it-py>=2.2.0 in /opt/homebrew/lib/python3.10/site-packages (from rich->keras>=3.0.0->tensorflow==2.16.2->tensorflow-macos) (3.0.0)\n",
      "Requirement already satisfied: pygments<3.0.0,>=2.13.0 in /opt/homebrew/lib/python3.10/site-packages (from rich->keras>=3.0.0->tensorflow==2.16.2->tensorflow-macos) (2.19.2)\n",
      "Requirement already satisfied: mdurl~=0.1 in /opt/homebrew/lib/python3.10/site-packages (from markdown-it-py>=2.2.0->rich->keras>=3.0.0->tensorflow==2.16.2->tensorflow-macos) (0.1.2)\n",
      "\n",
      "\u001b[1m[\u001b[0m\u001b[34;49mnotice\u001b[0m\u001b[1;39;49m]\u001b[0m\u001b[39;49m A new release of pip is available: \u001b[0m\u001b[31;49m25.1.1\u001b[0m\u001b[39;49m -> \u001b[0m\u001b[32;49m25.2\u001b[0m\n",
      "\u001b[1m[\u001b[0m\u001b[34;49mnotice\u001b[0m\u001b[1;39;49m]\u001b[0m\u001b[39;49m To update, run: \u001b[0m\u001b[32;49m/opt/homebrew/opt/python@3.10/bin/python3.10 -m pip install --upgrade pip\u001b[0m\n",
      "Note: you may need to restart the kernel to use updated packages.\n"
     ]
    }
   ],
   "source": [
    "pip install scikit-learn xgboost tensorflow-macos seaborn matplotlib pandas"
   ]
  },
  {
   "cell_type": "code",
   "execution_count": 8,
   "id": "f823440b-21a7-4834-ac49-65e59719ad1e",
   "metadata": {},
   "outputs": [
    {
     "name": "stdout",
     "output_type": "stream",
     "text": [
      "Requirement already satisfied: xgboost in /Library/Frameworks/Python.framework/Versions/3.13/lib/python3.13/site-packages (3.0.4)\n",
      "Requirement already satisfied: numpy in /Library/Frameworks/Python.framework/Versions/3.13/lib/python3.13/site-packages (from xgboost) (2.3.2)\n",
      "Requirement already satisfied: scipy in /Library/Frameworks/Python.framework/Versions/3.13/lib/python3.13/site-packages (from xgboost) (1.16.1)\n",
      "\n",
      "\u001b[1m[\u001b[0m\u001b[34;49mnotice\u001b[0m\u001b[1;39;49m]\u001b[0m\u001b[39;49m A new release of pip is available: \u001b[0m\u001b[31;49m25.1.1\u001b[0m\u001b[39;49m -> \u001b[0m\u001b[32;49m25.2\u001b[0m\n",
      "\u001b[1m[\u001b[0m\u001b[34;49mnotice\u001b[0m\u001b[1;39;49m]\u001b[0m\u001b[39;49m To update, run: \u001b[0m\u001b[32;49mpip install --upgrade pip\u001b[0m\n"
     ]
    }
   ],
   "source": [
    "!pip install xgboost"
   ]
  },
  {
   "cell_type": "code",
   "execution_count": 9,
   "id": "2c8910ae-dc72-454b-bd14-f76c9cbe5a50",
   "metadata": {},
   "outputs": [],
   "source": [
    "import re\n",
    "import ast\n",
    "from pathlib import Path"
   ]
  },
  {
   "cell_type": "code",
   "execution_count": 10,
   "id": "c4a51527-2f01-41f4-b45e-2b697105d5e8",
   "metadata": {},
   "outputs": [],
   "source": [
    "from sklearn.model_selection import train_test_split\n",
    "from sklearn.preprocessing import OneHotEncoder, StandardScaler, MinMaxScaler, MultiLabelBinarizer\n",
    "from sklearn.impute import SimpleImputer\n",
    "from sklearn.compose import ColumnTransformer\n",
    "from sklearn.pipeline import Pipeline\n",
    "from sklearn.feature_selection import VarianceThreshold\n",
    "from sklearn.ensemble import RandomForestClassifier\n",
    "import pandas as pd\n",
    "import numpy as np\n",
    "from pathlib import Path\n",
    "from sklearn.metrics import classification_report, confusion_matrix, roc_auc_score, roc_curve\n",
    "from sklearn.linear_model import LogisticRegression\n",
    "from sklearn.preprocessing import LabelEncoder, label_binarize\n",
    "import matplotlib.pyplot as plt\n",
    "import seaborn as sns\n",
    "import xgboost as xgb\n",
    "from tensorflow.keras.models import Sequential\n",
    "from tensorflow.keras.layers import Dense, Dropout\n",
    "from tensorflow.keras.utils import to_categorical\n",
    "from sklearn.tree import DecisionTreeClassifier"
   ]
  },
  {
   "cell_type": "code",
   "execution_count": 11,
   "id": "880b52c4-8e08-41be-aac4-821f2e7a8fa6",
   "metadata": {},
   "outputs": [
    {
     "name": "stdout",
     "output_type": "stream",
     "text": [
      "['gender', 'sexual_orientation', 'location_type', 'income_bracket', 'education_level', 'interest_tags', 'app_usage_time_min', 'app_usage_time_label', 'swipe_right_ratio', 'swipe_right_label', 'likes_received', 'mutual_matches', 'profile_pics_count', 'bio_length', 'message_sent_count', 'emoji_usage_rate', 'last_active_hour', 'swipe_time_of_day', 'match_outcome', 'age', 'height_cm', 'weight_kg', 'zodiac_sign', 'body_type', 'relationship_intent']\n"
     ]
    }
   ],
   "source": [
    "import pandas as pd\n",
    "import matplotlib.pyplot as plt\n",
    "import numpy as np\n",
    "df= pd.read_csv('/Users/jerry/Desktop/Personal Project/Dating App/Datraset/dating_app_behavior_dataset_extended1.csv')\n",
    "print(df.columns.tolist())"
   ]
  },
  {
   "cell_type": "code",
   "execution_count": 12,
   "id": "92be2870-4faa-48a7-afd6-7080b5e5288d",
   "metadata": {},
   "outputs": [
    {
     "name": "stdout",
     "output_type": "stream",
     "text": [
      "50000\n"
     ]
    }
   ],
   "source": [
    "total_rows= len(df)\n",
    "print(total_rows)"
   ]
  },
  {
   "cell_type": "code",
   "execution_count": 13,
   "id": "a1129dcf-ef7d-4a28-8e6e-624cb80dd6f7",
   "metadata": {},
   "outputs": [
    {
     "name": "stdout",
     "output_type": "stream",
     "text": [
      "Total rows: 50000, Total columns: 25\n",
      "\n",
      "First 5 records:\n",
      "              gender sexual_orientation location_type income_bracket  \\\n",
      "0  Prefer Not to Say                Gay         Urban           High   \n",
      "1               Male           Bisexual      Suburban   Upper-Middle   \n",
      "2         Non-binary          Pansexual      Suburban            Low   \n",
      "3        Genderfluid                Gay         Metro       Very Low   \n",
      "4               Male           Bisexual         Urban         Middle   \n",
      "\n",
      "       education_level                  interest_tags  app_usage_time_min  \\\n",
      "0           Bachelor’s   Fitness, Politics, Traveling                  52   \n",
      "1  No Formal Education  Languages, Fashion, Parenting                 279   \n",
      "2             Master’s           Movies, Reading, DIY                  49   \n",
      "3              Postdoc      Coding, Podcasts, History                 185   \n",
      "4           Bachelor’s       Clubbing, Podcasts, Cars                  83   \n",
      "\n",
      "  app_usage_time_label  swipe_right_ratio swipe_right_label  ...  \\\n",
      "0             Moderate               0.60        Optimistic  ...   \n",
      "1         Extreme User               0.56        Optimistic  ...   \n",
      "2             Moderate               0.41        Optimistic  ...   \n",
      "3         Extreme User               0.32          Balanced  ...   \n",
      "4                 High               0.32          Balanced  ...   \n",
      "\n",
      "   emoji_usage_rate  last_active_hour  swipe_time_of_day   match_outcome  age  \\\n",
      "0              0.36                13      Early Morning    Mutual Match   56   \n",
      "1              0.42                 0            Morning    Chat Ignored   40   \n",
      "2              0.41                 1     After Midnight   Date Happened   30   \n",
      "3              0.07                21            Morning       No Action   57   \n",
      "4              0.11                22     After Midnight  One-sided Like   24   \n",
      "\n",
      "   height_cm  weight_kg  zodiac_sign  body_type   relationship_intent  \n",
      "0        149       40.6       Taurus      Curvy          Friends Only  \n",
      "1        155       69.7          Leo  Plus Size               Hookups  \n",
      "2        185       96.9  Sagittarius      Curvy  Serious Relationship  \n",
      "3        154       49.3       Taurus       Slim             Exploring  \n",
      "4        149       40.0        Libra       Slim         Casual Dating  \n",
      "\n",
      "[5 rows x 25 columns]\n"
     ]
    }
   ],
   "source": [
    "# Dataset shape\n",
    "print(f\"Total rows: {df.shape[0]}, Total columns: {df.shape[1]}\")\n",
    "\n",
    "# First 5 rows\n",
    "print(\"\\nFirst 5 records:\")\n",
    "print(df.head())\n"
   ]
  },
  {
   "cell_type": "code",
   "execution_count": 14,
   "id": "cf897051-ec01-403e-9496-f8b5e705fa38",
   "metadata": {},
   "outputs": [
    {
     "name": "stdout",
     "output_type": "stream",
     "text": [
      "\n",
      "Data types:\n",
      "gender                   object\n",
      "sexual_orientation       object\n",
      "location_type            object\n",
      "income_bracket           object\n",
      "education_level          object\n",
      "interest_tags            object\n",
      "app_usage_time_min        int64\n",
      "app_usage_time_label     object\n",
      "swipe_right_ratio       float64\n",
      "swipe_right_label        object\n",
      "likes_received            int64\n",
      "mutual_matches            int64\n",
      "profile_pics_count        int64\n",
      "bio_length                int64\n",
      "message_sent_count        int64\n",
      "emoji_usage_rate        float64\n",
      "last_active_hour          int64\n",
      "swipe_time_of_day        object\n",
      "match_outcome            object\n",
      "age                       int64\n",
      "height_cm                 int64\n",
      "weight_kg               float64\n",
      "zodiac_sign              object\n",
      "body_type                object\n",
      "relationship_intent      object\n",
      "dtype: object\n"
     ]
    }
   ],
   "source": [
    "# Data types\n",
    "print(\"\\nData types:\")\n",
    "print(df.dtypes)\n"
   ]
  },
  {
   "cell_type": "code",
   "execution_count": 15,
   "id": "d1362937-65df-46d2-b845-f1b8aba9789f",
   "metadata": {},
   "outputs": [
    {
     "name": "stdout",
     "output_type": "stream",
     "text": [
      "\n",
      "Summary statistics (numerical):\n",
      "       app_usage_time_min  swipe_right_ratio  likes_received  mutual_matches  \\\n",
      "count        50000.000000       50000.000000    50000.000000    50000.000000   \n",
      "mean           149.912400           0.500655       99.526040       13.870280   \n",
      "std             86.990521           0.197468       57.996799        9.105615   \n",
      "min              0.000000           0.000000        0.000000        0.000000   \n",
      "25%             74.000000           0.370000       49.000000        6.000000   \n",
      "50%            150.000000           0.500000      100.000000       13.000000   \n",
      "75%            225.000000           0.640000      150.000000       22.000000   \n",
      "max            300.000000           1.000000      200.000000       30.000000   \n",
      "\n",
      "       profile_pics_count    bio_length  message_sent_count  emoji_usage_rate  \\\n",
      "count         50000.00000  50000.000000         50000.00000      50000.000000   \n",
      "mean              2.98772    250.174400            50.07194          0.286205   \n",
      "std               1.99678    144.800996            29.16800          0.160042   \n",
      "min               0.00000      0.000000             0.00000          0.000000   \n",
      "25%               1.00000    125.000000            25.00000          0.160000   \n",
      "50%               3.00000    250.000000            50.00000          0.270000   \n",
      "75%               5.00000    376.000000            75.00000          0.390000   \n",
      "max               6.00000    500.000000           100.00000          0.940000   \n",
      "\n",
      "       last_active_hour           age     height_cm     weight_kg  \n",
      "count      50000.000000  50000.000000  50000.000000  50000.000000  \n",
      "mean          11.521800     38.477920    172.584260     72.099052  \n",
      "std            6.920474     12.128435     16.134926     17.071441  \n",
      "min            0.000000     18.000000    145.000000     37.800000  \n",
      "25%            5.000000     28.000000    159.000000     59.200000  \n",
      "50%           12.000000     38.000000    173.000000     70.300000  \n",
      "75%           18.000000     49.000000    187.000000     83.800000  \n",
      "max           23.000000     59.000000    200.000000    120.000000  \n"
     ]
    }
   ],
   "source": [
    "# Summary statistics for numerical columns\n",
    "print(\"\\nSummary statistics (numerical):\")\n",
    "print(df.describe())\n"
   ]
  },
  {
   "cell_type": "code",
   "execution_count": 16,
   "id": "39e3e330-7d51-4f4d-a51a-e77019a0fd8d",
   "metadata": {},
   "outputs": [
    {
     "name": "stdout",
     "output_type": "stream",
     "text": [
      "                      Missing Count  Missing %\n",
      "gender                            0        0.0\n",
      "bio_length                        0        0.0\n",
      "body_type                         0        0.0\n",
      "zodiac_sign                       0        0.0\n",
      "weight_kg                         0        0.0\n",
      "height_cm                         0        0.0\n",
      "age                               0        0.0\n",
      "match_outcome                     0        0.0\n",
      "swipe_time_of_day                 0        0.0\n",
      "last_active_hour                  0        0.0\n",
      "emoji_usage_rate                  0        0.0\n",
      "message_sent_count                0        0.0\n",
      "profile_pics_count                0        0.0\n",
      "sexual_orientation                0        0.0\n",
      "mutual_matches                    0        0.0\n",
      "likes_received                    0        0.0\n",
      "swipe_right_label                 0        0.0\n",
      "swipe_right_ratio                 0        0.0\n",
      "app_usage_time_label              0        0.0\n",
      "app_usage_time_min                0        0.0\n",
      "interest_tags                     0        0.0\n",
      "education_level                   0        0.0\n",
      "income_bracket                    0        0.0\n",
      "location_type                     0        0.0\n",
      "relationship_intent               0        0.0\n"
     ]
    }
   ],
   "source": [
    "missing_count = df.isnull().sum()\n",
    "missing_pct = (missing_count / len(df) * 100).round(2)\n",
    "\n",
    "summary = pd.DataFrame({\n",
    "    'Missing Count': missing_count,\n",
    "    'Missing %': missing_pct\n",
    "}).sort_values(by='Missing %', ascending=False)\n",
    "\n",
    "print(summary)\n"
   ]
  },
  {
   "cell_type": "code",
   "execution_count": 17,
   "id": "2cf6409a-8a8a-410e-86ad-97a68e53e0c2",
   "metadata": {},
   "outputs": [
    {
     "name": "stdout",
     "output_type": "stream",
     "text": [
      "\n",
      "Target variable distribution (match_outcome):\n",
      "                     Count  Percentage\n",
      "match_outcome                         \n",
      "One-sided Like        5112        10.2\n",
      "Instant Match         5078        10.2\n",
      "Blocked               5049        10.1\n",
      "Catfished             5025        10.0\n",
      "Chat Ignored          5019        10.0\n",
      "Mutual Match          4990        10.0\n",
      "No Action             4986        10.0\n",
      "Ghosted               4959         9.9\n",
      "Date Happened         4919         9.8\n",
      "Relationship Formed   4863         9.7\n"
     ]
    },
    {
     "data": {
      "image/png": "[encoded data removed]",
      "text/plain": [
       "<Figure size 800x400 with 1 Axes>"
      ]
     },
     "metadata": {},
     "output_type": "display_data"
    }
   ],
   "source": [
    "# Target variable distribution\n",
    "# -------------------------------\n",
    "target_col = 'match_outcome'\n",
    "if target_col in df.columns:\n",
    "    value_counts = df[target_col].value_counts()\n",
    "    value_pct = df[target_col].value_counts(normalize=True).round(3) * 100\n",
    "    target_summary = pd.DataFrame({\n",
    "        'Count': value_counts,\n",
    "        'Percentage': value_pct\n",
    "    })\n",
    "    print(f\"\\nTarget variable distribution ({target_col}):\")\n",
    "    print(target_summary)\n",
    "\n",
    "    # Plot distribution\n",
    "    plt.figure(figsize=(8, 4))\n",
    "    value_counts.plot(kind='bar', color='skyblue')\n",
    "    plt.title(f\"Class Distribution - {target_col}\")\n",
    "    plt.xlabel(\"Category\")\n",
    "    plt.ylabel(\"Count\")\n",
    "    plt.tight_layout()\n",
    "    plt.show()"
   ]
  },
  {
   "cell_type": "code",
   "execution_count": 18,
   "id": "ec7a2bea-5aed-4d7c-91cc-4f07074ae2c9",
   "metadata": {},
   "outputs": [
    {
     "name": "stdout",
     "output_type": "stream",
     "text": [
      "\n",
      "Correlation matrix (numeric features):\n",
      "                    app_usage_time_min  swipe_right_ratio  likes_received  \\\n",
      "app_usage_time_min            1.000000           0.000490       -0.002879   \n",
      "swipe_right_ratio             0.000490           1.000000       -0.004317   \n",
      "likes_received               -0.002879          -0.004317        1.000000   \n",
      "mutual_matches                0.008318           0.004139        0.205968   \n",
      "profile_pics_count           -0.006816          -0.003321       -0.008693   \n",
      "bio_length                    0.002045          -0.000201       -0.000149   \n",
      "message_sent_count           -0.000944          -0.003280       -0.001074   \n",
      "emoji_usage_rate              0.003504          -0.001835       -0.001523   \n",
      "last_active_hour             -0.000377           0.000424        0.012123   \n",
      "age                          -0.007839           0.005846       -0.003081   \n",
      "height_cm                    -0.004232          -0.000469        0.008458   \n",
      "weight_kg                     0.000258          -0.002786        0.006268   \n",
      "\n",
      "                    mutual_matches  profile_pics_count  bio_length  \\\n",
      "app_usage_time_min        0.008318           -0.006816    0.002045   \n",
      "swipe_right_ratio         0.004139           -0.003321   -0.000201   \n",
      "likes_received            0.205968           -0.008693   -0.000149   \n",
      "mutual_matches            1.000000            0.005483    0.005855   \n",
      "profile_pics_count        0.005483            1.000000    0.007614   \n",
      "bio_length                0.005855            0.007614    1.000000   \n",
      "message_sent_count       -0.004002            0.010570   -0.000142   \n",
      "emoji_usage_rate          0.002556           -0.005337   -0.008352   \n",
      "last_active_hour          0.003438           -0.013532    0.000726   \n",
      "age                       0.000990           -0.009638   -0.003063   \n",
      "height_cm                 0.010265           -0.001413    0.001052   \n",
      "weight_kg                 0.008814           -0.006236   -0.000169   \n",
      "\n",
      "                    message_sent_count  emoji_usage_rate  last_active_hour  \\\n",
      "app_usage_time_min           -0.000944          0.003504         -0.000377   \n",
      "swipe_right_ratio            -0.003280         -0.001835          0.000424   \n",
      "likes_received               -0.001074         -0.001523          0.012123   \n",
      "mutual_matches               -0.004002          0.002556          0.003438   \n",
      "profile_pics_count            0.010570         -0.005337         -0.013532   \n",
      "bio_length                   -0.000142         -0.008352          0.000726   \n",
      "message_sent_count            1.000000          0.003153          0.003439   \n",
      "emoji_usage_rate              0.003153          1.000000         -0.003734   \n",
      "last_active_hour              0.003439         -0.003734          1.000000   \n",
      "age                           0.012261         -0.000400          0.007384   \n",
      "height_cm                    -0.005145          0.005521          0.002659   \n",
      "weight_kg                    -0.004282          0.003625          0.005827   \n",
      "\n",
      "                         age  height_cm  weight_kg  \n",
      "app_usage_time_min -0.007839  -0.004232   0.000258  \n",
      "swipe_right_ratio   0.005846  -0.000469  -0.002786  \n",
      "likes_received     -0.003081   0.008458   0.006268  \n",
      "mutual_matches      0.000990   0.010265   0.008814  \n",
      "profile_pics_count -0.009638  -0.001413  -0.006236  \n",
      "bio_length         -0.003063   0.001052  -0.000169  \n",
      "message_sent_count  0.012261  -0.005145  -0.004282  \n",
      "emoji_usage_rate   -0.000400   0.005521   0.003625  \n",
      "last_active_hour    0.007384   0.002659   0.005827  \n",
      "age                 1.000000  -0.005119  -0.001690  \n",
      "height_cm          -0.005119   1.000000   0.783664  \n",
      "weight_kg          -0.001690   0.783664   1.000000  \n"
     ]
    },
    {
     "data": {
      "image/png": "[encoded data removed]",
      "text/plain": [
       "<Figure size 600x500 with 2 Axes>"
      ]
     },
     "metadata": {},
     "output_type": "display_data"
    }
   ],
   "source": [
    "numeric_cols = df.select_dtypes(include=[np.number]).columns.tolist()\n",
    "if numeric_cols:\n",
    "    corr_matrix = df[numeric_cols].corr()\n",
    "\n",
    "    print(\"\\nCorrelation matrix (numeric features):\")\n",
    "    print(corr_matrix)\n",
    "\n",
    "    plt.figure(figsize=(6, 5))\n",
    "    im = plt.imshow(corr_matrix, cmap='coolwarm', interpolation='nearest')\n",
    "    plt.colorbar(im, fraction=0.046, pad=0.04)\n",
    "    plt.xticks(range(len(numeric_cols)), numeric_cols, rotation=45, ha='right')\n",
    "    plt.yticks(range(len(numeric_cols)), numeric_cols)\n",
    "    plt.title(\"Correlation Heatmap (Numeric Features)\")\n",
    "    plt.tight_layout()\n",
    "    plt.show()\n",
    "else:\n",
    "    print(\"\\nNo numeric columns found for correlation analysis.\")"
   ]
  },
  {
   "cell_type": "code",
   "execution_count": 19,
   "id": "bc60386d-b14e-4cd4-b840-ce464b5e9a12",
   "metadata": {},
   "outputs": [],
   "source": [
    "CSV_PATH = \"/Users/jerry/Desktop/Personal Project/Dating App/Datraset/dating_app_behavior_dataset_extended1.csv\"\n",
    "TARGET_COL = \"match_outcome\"\n",
    "\n",
    "# Optional: choose scaler (\"standard\" or \"minmax\")\n",
    "SCALER_KIND = \"standard\"\n",
    "\n",
    "# Low-variance removal threshold (remove features with variance below this)\n",
    "VARIANCE_THRESHOLD = 1e-5\n",
    "\n",
    "# Model-based feature selection: keep features with importance >= median importance\n",
    "MODEL_FS_THRESHOLD = \"median\"  # or use a float like 0.002\n",
    "\n",
    "OUTPUT_DIR = Path(\"./prepared_data\")\n",
    "OUTPUT_DIR.mkdir(parents=True, exist_ok=True)"
   ]
  },
  {
   "cell_type": "code",
   "execution_count": 20,
   "id": "2a829934-cdc4-4c2e-b6e7-e104cb8e879a",
   "metadata": {},
   "outputs": [
    {
     "name": "stdout",
     "output_type": "stream",
     "text": [
      "Numeric cols: ['app_usage_time_min', 'swipe_right_ratio', 'likes_received', 'mutual_matches', 'profile_pics_count', 'bio_length', 'message_sent_count', 'emoji_usage_rate', 'last_active_hour', 'age', 'height_cm', 'weight_kg']\n",
      "Categorical cols: ['gender', 'sexual_orientation', 'location_type', 'income_bracket', 'education_level', 'app_usage_time_label', 'swipe_right_label', 'swipe_time_of_day', 'zodiac_sign', 'body_type', 'relationship_intent']\n",
      "Multi-label text col: interest_tags\n"
     ]
    }
   ],
   "source": [
    "\n",
    "# Numeric columns (auto-detect)\n",
    "numeric_cols = df.select_dtypes(include=[np.number]).columns.tolist()\n",
    "\n",
    "# Categorical columns (object dtype, excluding the multi-label text column)\n",
    "text_multilabel_col = \"interest_tags\"\n",
    "categorical_cols = df.select_dtypes(include=[\"object\"]).columns.tolist()\n",
    "if text_multilabel_col in categorical_cols:\n",
    "    categorical_cols.remove(text_multilabel_col)\n",
    "\n",
    "# Ensure target is not in features\n",
    "if TARGET_COL in categorical_cols:\n",
    "    categorical_cols.remove(TARGET_COL)\n",
    "if TARGET_COL in numeric_cols:\n",
    "    numeric_cols.remove(TARGET_COL)\n",
    "\n",
    "print(\"Numeric cols:\", numeric_cols)\n",
    "print(\"Categorical cols:\", categorical_cols)\n",
    "print(\"Multi-label text col:\", text_multilabel_col)\n"
   ]
  },
  {
   "cell_type": "code",
   "execution_count": 21,
   "id": "20d6e574-0304-42cf-9bc9-6a65b11d0291",
   "metadata": {},
   "outputs": [
    {
     "name": "stdout",
     "output_type": "stream",
     "text": [
      "Split shapes: \n",
      "  Train: (35000, 24) \n",
      "  Val:   (7500, 24) \n",
      "  Test:  (7500, 24)\n"
     ]
    }
   ],
   "source": [
    "# 3) Train/Val/Test split (stratified)\n",
    "# -----------------------------\n",
    "X = df.drop(columns=[TARGET_COL])\n",
    "y = df[TARGET_COL].astype(\"category\")  # keep as categorical labels for stratify; model will handle encoding later\n",
    "\n",
    "X_train, X_temp, y_train, y_temp = train_test_split(\n",
    "    X, y, test_size=0.30, random_state=42, stratify=y\n",
    ")\n",
    "X_val, X_test, y_val, y_test = train_test_split(\n",
    "    X_temp, y_temp, test_size=(0.15/0.30), random_state=42, stratify=y_temp\n",
    ")\n",
    "\n",
    "print(\"Split shapes:\",\n",
    "      \"\\n  Train:\", X_train.shape,\n",
    "      \"\\n  Val:  \", X_val.shape,\n",
    "      \"\\n  Test: \", X_test.shape)"
   ]
  },
  {
   "cell_type": "code",
   "execution_count": 22,
   "id": "65e57e29-9190-4870-beba-78c3c5760390",
   "metadata": {},
   "outputs": [],
   "source": [
    "# 4) Helper: parse interest_tags into list\n",
    "# -----------------------------\n",
    "def parse_interest_tags(x):\n",
    "    \"\"\"\n",
    "    Parse interest_tags into a list of strings.\n",
    "    Supports formats like:\n",
    "      - \"Fitness, Traveling, Politics\"\n",
    "      - \"['Fitness', 'Traveling']\"\n",
    "    \"\"\"\n",
    "    if pd.isna(x):\n",
    "        return []\n",
    "    s = str(x).strip()\n",
    "    # Try literal list\n",
    "    if s.startswith(\"[\") and s.endswith(\"]\"):\n",
    "        try:\n",
    "            lst = ast.literal_eval(s)\n",
    "            return [str(v).strip() for v in lst]\n",
    "        except Exception:\n",
    "            pass\n",
    "    # Fallback: split by comma/semicolon\n",
    "    parts = [p.strip() for p in re.split(r\",|;\", s) if p.strip()]\n",
    "    return parts"
   ]
  },
  {
   "cell_type": "code",
   "execution_count": 23,
   "id": "04c048da-078a-416b-9bc8-9eab84545b88",
   "metadata": {},
   "outputs": [],
   "source": [
    "# Fit MultiLabelBinarizer on TRAIN ONLY to avoid leakage\n",
    "mlb = MultiLabelBinarizer(sparse_output=False)\n",
    "\n",
    "def fit_transform_tags(series_train):\n",
    "    tag_lists = series_train.apply(parse_interest_tags)\n",
    "    Z_train = mlb.fit_transform(tag_lists)\n",
    "    tag_cols = [f\"tag_{t}\" for t in mlb.classes_]\n",
    "    return pd.DataFrame(Z_train, columns=tag_cols, index=series_train.index)\n",
    "\n",
    "def transform_tags(series):\n",
    "    tag_lists = series.apply(parse_interest_tags)\n",
    "    Z = mlb.transform(tag_lists)\n",
    "    tag_cols = [f\"tag_{t}\" for t in mlb.classes_]\n",
    "    return pd.DataFrame(Z, columns=tag_cols, index=series.index)\n"
   ]
  },
  {
   "cell_type": "code",
   "execution_count": 24,
   "id": "f02dac93-5571-4253-9649-9c42517e415c",
   "metadata": {},
   "outputs": [],
   "source": [
    "# Build tag matrices\n",
    "Z_train = fit_transform_tags(X_train[text_multilabel_col]) if text_multilabel_col in X_train.columns else pd.DataFrame(index=X_train.index)\n",
    "Z_val   = transform_tags(X_val[text_multilabel_col])       if text_multilabel_col in X_val.columns   else pd.DataFrame(index=X_val.index)\n",
    "Z_test  = transform_tags(X_test[text_multilabel_col])      if text_multilabel_col in X_test.columns  else pd.DataFrame(index=X_test.index)"
   ]
  },
  {
   "cell_type": "code",
   "execution_count": 25,
   "id": "af19fbee-60de-46d8-bb98-87ba585ef503",
   "metadata": {},
   "outputs": [],
   "source": [
    "# Drop the raw text column from X\n",
    "for split_df in (X_train, X_val, X_test):\n",
    "    if text_multilabel_col in split_df.columns:\n",
    "        split_df.drop(columns=[text_multilabel_col], inplace=True)"
   ]
  },
  {
   "cell_type": "code",
   "execution_count": 26,
   "id": "ed522611-2b89-4d55-a744-8cdc2b78e339",
   "metadata": {},
   "outputs": [
    {
     "name": "stdout",
     "output_type": "stream",
     "text": [
      "Feature matrix shapes: \n",
      "  Train: (35000, 138) \n",
      "  Val:   (7500, 138) \n",
      "  Test:  (7500, 138)\n"
     ]
    }
   ],
   "source": [
    "#  5) Missing values & Outlier capping for numeric\n",
    "#    - Impute numeric with mean (fit on TRAIN)\n",
    "#    - Cap outliers using IQR (fit on TRAIN, apply to all)\n",
    "# -----------------------------\n",
    "# Impute numeric\n",
    "num_imputer = SimpleImputer(strategy=\"mean\")\n",
    "X_train_num = pd.DataFrame(num_imputer.fit_transform(X_train[numeric_cols]),\n",
    "                           columns=numeric_cols, index=X_train.index)\n",
    "X_val_num   = pd.DataFrame(num_imputer.transform(X_val[numeric_cols]),\n",
    "                           columns=numeric_cols, index=X_val.index)\n",
    "X_test_num  = pd.DataFrame(num_imputer.transform(X_test[numeric_cols]),\n",
    "                           columns=numeric_cols, index=X_test.index)\n",
    "\n",
    "# IQR capping (winsorization) learned on TRAIN\n",
    "def fit_iqr_caps(df_num):\n",
    "    caps = {}\n",
    "    for col in df_num.columns:\n",
    "        q1 = df_num[col].quantile(0.25)\n",
    "        q3 = df_num[col].quantile(0.75)\n",
    "        iqr = q3 - q1\n",
    "        lower = q1 - 1.5 * iqr\n",
    "        upper = q3 + 1.5 * iqr\n",
    "        caps[col] = (lower, upper)\n",
    "    return caps\n",
    "\n",
    "def apply_caps(df_num, caps):\n",
    "    df_capped = df_num.copy()\n",
    "    for col, (lo, up) in caps.items():\n",
    "        df_capped[col] = df_capped[col].clip(lower=lo, upper=up)\n",
    "    return df_capped\n",
    "\n",
    "iqr_caps = fit_iqr_caps(X_train_num)\n",
    "X_train_num = apply_caps(X_train_num, iqr_caps)\n",
    "X_val_num   = apply_caps(X_val_num, iqr_caps)\n",
    "X_test_num  = apply_caps(X_test_num, iqr_caps)\n",
    "\n",
    "# -----------------------------\n",
    "# 6) Missing values for categorical + One-Hot (fit on TRAIN)\n",
    "# -----------------------------\n",
    "cat_imputer = SimpleImputer(strategy=\"most_frequent\")\n",
    "X_train_cat_imp = pd.DataFrame(cat_imputer.fit_transform(X_train[categorical_cols]),\n",
    "                               columns=categorical_cols, index=X_train.index)\n",
    "X_val_cat_imp   = pd.DataFrame(cat_imputer.transform(X_val[categorical_cols]),\n",
    "                               columns=categorical_cols, index=X_val.index)\n",
    "X_test_cat_imp  = pd.DataFrame(cat_imputer.transform(X_test[categorical_cols]),\n",
    "                               columns=categorical_cols, index=X_test.index)\n",
    "\n",
    "ohe = OneHotEncoder(handle_unknown=\"ignore\", sparse_output=False)\n",
    "X_train_cat_ohe = pd.DataFrame(ohe.fit_transform(X_train_cat_imp),\n",
    "                               columns=ohe.get_feature_names_out(categorical_cols),\n",
    "                               index=X_train.index)\n",
    "X_val_cat_ohe   = pd.DataFrame(ohe.transform(X_val_cat_imp),\n",
    "                               columns=ohe.get_feature_names_out(categorical_cols),\n",
    "                               index=X_val.index)\n",
    "X_test_cat_ohe  = pd.DataFrame(ohe.transform(X_test_cat_imp),\n",
    "                               columns=ohe.get_feature_names_out(categorical_cols),\n",
    "                               index=X_test.index)\n",
    "\n",
    "# -----------------------------\n",
    "# 7) Combine: numeric + one-hot categorical + tag binaries\n",
    "# -----------------------------\n",
    "X_train_full = pd.concat([X_train_num, X_train_cat_ohe, Z_train], axis=1)\n",
    "X_val_full   = pd.concat([X_val_num,   X_val_cat_ohe,   Z_val], axis=1)\n",
    "X_test_full  = pd.concat([X_test_num,  X_test_cat_ohe,  Z_test], axis=1)\n",
    "\n",
    "print(\"Feature matrix shapes:\",\n",
    "      \"\\n  Train:\", X_train_full.shape,\n",
    "      \"\\n  Val:  \", X_val_full.shape,\n",
    "      \"\\n  Test: \", X_test_full.shape)\n",
    "\n",
    "# -----------------------------"
   ]
  },
  {
   "cell_type": "code",
   "execution_count": 27,
   "id": "33bd667c-3e55-495c-8da5-c6b50d15fc0c",
   "metadata": {},
   "outputs": [],
   "source": [
    "if SCALER_KIND == \"minmax\":\n",
    "    scaler = MinMaxScaler()\n",
    "else:\n",
    "    scaler = StandardScaler(with_mean=True, with_std=True)\n",
    "\n",
    "X_train_scaled = pd.DataFrame(scaler.fit_transform(X_train_full),\n",
    "                              columns=X_train_full.columns, index=X_train_full.index)\n",
    "X_val_scaled   = pd.DataFrame(scaler.transform(X_val_full),\n",
    "                              columns=X_val_full.columns, index=X_val_full.index)\n",
    "X_test_scaled  = pd.DataFrame(scaler.transform(X_test_full),\n",
    "                              columns=X_test_full.columns, index=X_test_full.index)\n"
   ]
  },
  {
   "cell_type": "code",
   "execution_count": 28,
   "id": "92ac9eaa-3178-48fc-a25d-f63c24ca9de8",
   "metadata": {},
   "outputs": [
    {
     "name": "stdout",
     "output_type": "stream",
     "text": [
      "After VarianceThreshold: \n",
      "  Train: (35000, 138) \n",
      "  Val:   (7500, 138) \n",
      "  Test:  (7500, 138)\n"
     ]
    }
   ],
   "source": [
    "# 9) Low-variance feature removal (fit on TRAIN)\n",
    "# -----------------------------\n",
    "vt = VarianceThreshold(threshold=VARIANCE_THRESHOLD)\n",
    "X_train_vt = pd.DataFrame(vt.fit_transform(X_train_scaled),\n",
    "                          columns=X_train_scaled.columns[vt.get_support()],\n",
    "                          index=X_train_scaled.index)\n",
    "X_val_vt   = pd.DataFrame(vt.transform(X_val_scaled),\n",
    "                          columns=X_train_scaled.columns[vt.get_support()],\n",
    "                          index=X_val_scaled.index)\n",
    "X_test_vt  = pd.DataFrame(vt.transform(X_test_scaled),\n",
    "                          columns=X_train_scaled.columns[vt.get_support()],\n",
    "                          index=X_test_scaled.index)\n",
    "\n",
    "print(\"After VarianceThreshold:\",\n",
    "      \"\\n  Train:\", X_train_vt.shape,\n",
    "      \"\\n  Val:  \", X_val_vt.shape,\n",
    "      \"\\n  Test: \", X_test_vt.shape)\n"
   ]
  },
  {
   "cell_type": "code",
   "execution_count": 29,
   "id": "b454a662-5848-4971-8ef3-5c22c79545e8",
   "metadata": {},
   "outputs": [
    {
     "name": "stdout",
     "output_type": "stream",
     "text": [
      "Final processed datasets saved to: /Users/jerry/prepared_data\n"
     ]
    }
   ],
   "source": [
    "# ================================\n",
    "# Save final processed datasets (after VarianceThreshold)\n",
    "# ================================\n",
    "from pathlib import Path\n",
    "import pandas as pd\n",
    "\n",
    "# Output directory\n",
    "out_dir = Path(\"./prepared_data\")\n",
    "out_dir.mkdir(parents=True, exist_ok=True)\n",
    "\n",
    "# Save features\n",
    "X_train_vt.to_csv(out_dir / \"X_train.csv\", index=True)\n",
    "X_val_vt.to_csv(out_dir / \"X_val.csv\", index=True)\n",
    "X_test_vt.to_csv(out_dir / \"X_test.csv\", index=True)\n",
    "\n",
    "# Save labels (if categorical, save both raw and encoded)\n",
    "def label_df(y):\n",
    "    if hasattr(y, \"cat\"):\n",
    "        return pd.DataFrame({\n",
    "            \"y_raw\": y.astype(str).values,\n",
    "            \"y_enc\": y.cat.codes.values\n",
    "        }, index=y.index)\n",
    "    else:\n",
    "        return pd.DataFrame({\"y_raw\": y.values}, index=y.index)\n",
    "\n",
    "label_df(y_train).to_csv(out_dir / \"y_train.csv\")\n",
    "label_df(y_val).to_csv(out_dir / \"y_val.csv\")\n",
    "label_df(y_test).to_csv(out_dir / \"y_test.csv\")\n",
    "\n",
    "# Save metadata\n",
    "meta = {\n",
    "    \"n_features\": X_train_vt.shape[1],\n",
    "    \"feature_names\": X_train_vt.columns.tolist(),\n",
    "    \"split_sizes\": {\n",
    "        \"train\": len(y_train),\n",
    "        \"val\": len(y_val),\n",
    "        \"test\": len(y_test)\n",
    "    }\n",
    "}\n",
    "pd.Series(meta, dtype=\"object\").to_json(out_dir / \"metadata.json\")\n",
    "\n",
    "print(\"Final processed datasets saved to:\", out_dir.resolve())\n"
   ]
  },
  {
   "cell_type": "code",
   "execution_count": null,
   "id": "80d6ce6f-0873-457f-a6f4-de035a827d49",
   "metadata": {},
   "outputs": [],
   "source": []
  },
  {
   "cell_type": "code",
   "execution_count": 30,
   "id": "b8774ce7-612e-44ce-b599-01a3e4e1f93f",
   "metadata": {},
   "outputs": [],
   "source": [
    "# 1) Load data\n",
    "# -----------------------\n",
    "data_dir = Path(\"./prepared_data\")\n",
    "X_train = pd.read_csv(data_dir / \"X_train.csv\", index_col=0)\n",
    "X_val   = pd.read_csv(data_dir / \"X_val.csv\", index_col=0)\n",
    "X_test  = pd.read_csv(data_dir / \"X_test.csv\", index_col=0)\n",
    "\n",
    "y_train_df = pd.read_csv(data_dir / \"y_train.csv\", index_col=0)\n",
    "y_val_df   = pd.read_csv(data_dir / \"y_val.csv\", index_col=0)\n",
    "y_test_df  = pd.read_csv(data_dir / \"y_test.csv\", index_col=0)"
   ]
  },
  {
   "cell_type": "code",
   "execution_count": 31,
   "id": "833a12a5-fe13-400e-94f6-65ff22a38da4",
   "metadata": {},
   "outputs": [],
   "source": [
    "# Use encoded labels for modeling\n",
    "y_train_enc = y_train_df[\"y_enc\"].values\n",
    "y_val_enc   = y_val_df[\"y_enc\"].values\n",
    "y_test_enc  = y_test_df[\"y_enc\"].values\n"
   ]
  },
  {
   "cell_type": "code",
   "execution_count": 32,
   "id": "9837d086-be7e-4c84-93dd-77acc8b6a4dd",
   "metadata": {},
   "outputs": [],
   "source": [
    "# For ROC, we need binary matrix form\n",
    "classes = sorted(np.unique(y_train_enc))\n",
    "n_classes = len(classes)\n",
    "y_test_bin = label_binarize(y_test_enc, classes=classes)\n"
   ]
  },
  {
   "cell_type": "code",
   "execution_count": 33,
   "id": "4e8151b4-0fc4-4d3e-bc89-44cc6b140f42",
   "metadata": {},
   "outputs": [
    {
     "name": "stderr",
     "output_type": "stream",
     "text": [
      "/opt/homebrew/lib/python3.10/site-packages/sklearn/linear_model/_logistic.py:1272: FutureWarning: 'multi_class' was deprecated in version 1.5 and will be removed in 1.7. From then on, it will always use 'multinomial'. Leave it to its default value to avoid this warning.\n",
      "  warnings.warn(\n"
     ]
    },
    {
     "name": "stdout",
     "output_type": "stream",
     "text": [
      "\n",
      "=== Logistic Regression ===\n",
      "              precision    recall  f1-score   support\n",
      "\n",
      "           0      0.101     0.103     0.102       757\n",
      "           1      0.099     0.101     0.100       753\n",
      "           2      0.100     0.113     0.106       753\n",
      "           3      0.089     0.081     0.085       738\n",
      "           4      0.099     0.089     0.094       744\n",
      "           5      0.101     0.109     0.105       762\n",
      "           6      0.090     0.111     0.099       749\n",
      "           7      0.101     0.079     0.089       748\n",
      "           8      0.116     0.123     0.119       767\n",
      "           9      0.092     0.080     0.085       729\n",
      "\n",
      "    accuracy                          0.099      7500\n",
      "   macro avg      0.099     0.099     0.098      7500\n",
      "weighted avg      0.099     0.099     0.099      7500\n",
      "\n"
     ]
    }
   ],
   "source": [
    "# 2) Logistic Regression\n",
    "# -----------------------\n",
    "log_reg = LogisticRegression(max_iter=500, multi_class=\"multinomial\", solver=\"lbfgs\", n_jobs=-1)\n",
    "log_reg.fit(X_train, y_train_enc)\n",
    "y_pred_lr = log_reg.predict(X_test)\n",
    "\n",
    "print(\"\\n=== Logistic Regression ===\")\n",
    "print(classification_report(y_test_enc, y_pred_lr, digits=3))"
   ]
  },
  {
   "cell_type": "code",
   "execution_count": 34,
   "id": "aeb5d3ec-690a-4ce7-969c-f3394bdcdfb5",
   "metadata": {},
   "outputs": [
    {
     "name": "stdout",
     "output_type": "stream",
     "text": [
      "\n",
      "=== Decision Tree ===\n",
      "Accuracy: 0.0961\n",
      "Macro-F1: 0.0943\n",
      "              precision    recall  f1-score   support\n",
      "\n",
      "           0      0.087     0.094     0.090       757\n",
      "           1      0.126     0.097     0.109       753\n",
      "           2      0.107     0.096     0.101       753\n",
      "           3      0.083     0.084     0.083       738\n",
      "           4      0.098     0.071     0.082       744\n",
      "           5      0.093     0.093     0.093       762\n",
      "           6      0.095     0.187     0.126       749\n",
      "           7      0.088     0.060     0.071       748\n",
      "           8      0.098     0.087     0.092       767\n",
      "           9      0.095     0.092     0.093       729\n",
      "\n",
      "    accuracy                          0.096      7500\n",
      "   macro avg      0.097     0.096     0.094      7500\n",
      "weighted avg      0.097     0.096     0.094      7500\n",
      "\n"
     ]
    }
   ],
   "source": [
    "from sklearn.tree import DecisionTreeClassifier\n",
    "from sklearn.metrics import accuracy_score, f1_score, classification_report\n",
    "from tensorflow.keras.models import Sequential\n",
    "from tensorflow.keras.layers import Dense, Dropout\n",
    "from tensorflow.keras.callbacks import EarlyStopping\n",
    "from tensorflow.keras.utils import to_categorical\n",
    "import numpy as np\n",
    "\n",
    "dt = DecisionTreeClassifier(\n",
    "    criterion=\"gini\",\n",
    "    max_depth=12,\n",
    "    min_samples_split=50,\n",
    "    min_samples_leaf=20,\n",
    "    random_state=42\n",
    ")\n",
    "dt.fit(X_train, y_train_enc)\n",
    "y_pred_dt = dt.predict(X_test)\n",
    "\n",
    "print(\"\\n=== Decision Tree ===\")\n",
    "print(\"Accuracy:\", round(accuracy_score(y_test_enc, y_pred_dt), 4))\n",
    "print(\"Macro-F1:\", round(f1_score(y_test_enc, y_pred_dt, average=\"macro\"), 4))\n",
    "print(classification_report(y_test_enc, y_pred_dt, digits=3))\n",
    "\n"
   ]
  },
  {
   "cell_type": "code",
   "execution_count": 35,
   "id": "63fbc6ed-c4d8-40d8-8d3a-192b81bd242d",
   "metadata": {},
   "outputs": [
    {
     "name": "stdout",
     "output_type": "stream",
     "text": [
      "Epoch 1/40\n"
     ]
    },
    {
     "name": "stderr",
     "output_type": "stream",
     "text": [
      "/opt/homebrew/lib/python3.10/site-packages/keras/src/layers/core/dense.py:93: UserWarning: Do not pass an `input_shape`/`input_dim` argument to a layer. When using Sequential models, prefer using an `Input(shape)` object as the first layer in the model instead.\n",
      "  super().__init__(activity_regularizer=activity_regularizer, **kwargs)\n"
     ]
    },
    {
     "name": "stdout",
     "output_type": "stream",
     "text": [
      "\u001b[1m137/137\u001b[0m \u001b[32m━━━━━━━━━━━━━━━━━━━━\u001b[0m\u001b[37m\u001b[0m \u001b[1m1s\u001b[0m 2ms/step - accuracy: 0.1040 - loss: 2.4196 - val_accuracy: 0.0995 - val_loss: 2.3040\n",
      "Epoch 2/40\n",
      "\u001b[1m137/137\u001b[0m \u001b[32m━━━━━━━━━━━━━━━━━━━━\u001b[0m\u001b[37m\u001b[0m \u001b[1m0s\u001b[0m 2ms/step - accuracy: 0.1094 - loss: 2.3015 - val_accuracy: 0.0975 - val_loss: 2.3035\n",
      "Epoch 3/40\n",
      "\u001b[1m137/137\u001b[0m \u001b[32m━━━━━━━━━━━━━━━━━━━━\u001b[0m\u001b[37m\u001b[0m \u001b[1m0s\u001b[0m 2ms/step - accuracy: 0.1163 - loss: 2.2978 - val_accuracy: 0.0964 - val_loss: 2.3043\n",
      "Epoch 4/40\n",
      "\u001b[1m137/137\u001b[0m \u001b[32m━━━━━━━━━━━━━━━━━━━━\u001b[0m\u001b[37m\u001b[0m \u001b[1m0s\u001b[0m 2ms/step - accuracy: 0.1202 - loss: 2.2940 - val_accuracy: 0.0940 - val_loss: 2.3059\n",
      "Epoch 5/40\n",
      "\u001b[1m137/137\u001b[0m \u001b[32m━━━━━━━━━━━━━━━━━━━━\u001b[0m\u001b[37m\u001b[0m \u001b[1m0s\u001b[0m 2ms/step - accuracy: 0.1259 - loss: 2.2888 - val_accuracy: 0.0944 - val_loss: 2.3065\n",
      "Epoch 6/40\n",
      "\u001b[1m137/137\u001b[0m \u001b[32m━━━━━━━━━━━━━━━━━━━━\u001b[0m\u001b[37m\u001b[0m \u001b[1m0s\u001b[0m 2ms/step - accuracy: 0.1333 - loss: 2.2838 - val_accuracy: 0.0995 - val_loss: 2.3088\n",
      "\n",
      "=== MLP ===\n",
      "Accuracy: 0.1\n",
      "Macro-F1: 0.0926\n",
      "              precision    recall  f1-score   support\n",
      "\n",
      "           0      0.109     0.239     0.149       757\n",
      "           1      0.095     0.054     0.069       753\n",
      "           2      0.087     0.061     0.072       753\n",
      "           3      0.088     0.035     0.050       738\n",
      "           4      0.095     0.121     0.106       744\n",
      "           5      0.092     0.136     0.110       762\n",
      "           6      0.120     0.079     0.095       749\n",
      "           7      0.086     0.047     0.061       748\n",
      "           8      0.103     0.140     0.119       767\n",
      "           9      0.107     0.084     0.094       729\n",
      "\n",
      "    accuracy                          0.100      7500\n",
      "   macro avg      0.098     0.100     0.093      7500\n",
      "weighted avg      0.098     0.100     0.093      7500\n",
      "\n"
     ]
    }
   ],
   "source": [
    "# === MLP (Keras) ===\n",
    "input_dim = X_train.shape[1]\n",
    "n_classes = len(np.unique(y_train_enc))\n",
    "\n",
    "mlp = Sequential([\n",
    "    Dense(256, activation=\"relu\", input_shape=(input_dim,)),\n",
    "    Dropout(0.3),\n",
    "    Dense(128, activation=\"relu\"),\n",
    "    Dropout(0.3),\n",
    "    Dense(n_classes, activation=\"softmax\"),\n",
    "])\n",
    "mlp.compile(optimizer=\"adam\", loss=\"categorical_crossentropy\", metrics=[\"accuracy\"])\n",
    "\n",
    "y_train_cat = to_categorical(y_train_enc, num_classes=n_classes)\n",
    "y_val_cat   = to_categorical(y_val_enc,   num_classes=n_classes)\n",
    "\n",
    "es = EarlyStopping(monitor=\"val_accuracy\", mode=\"max\", patience=5, restore_best_weights=True)\n",
    "\n",
    "mlp.fit(\n",
    "    X_train, y_train_cat,\n",
    "    validation_data=(X_val, y_val_cat),\n",
    "    epochs=40, batch_size=256, verbose=1,\n",
    "    callbacks=[es]\n",
    ")\n",
    "\n",
    "y_pred_mlp = np.argmax(mlp.predict(X_test, verbose=0), axis=1)\n",
    "\n",
    "print(\"\\n=== MLP ===\")\n",
    "print(\"Accuracy:\", round(accuracy_score(y_test_enc, y_pred_mlp), 4))\n",
    "print(\"Macro-F1:\", round(f1_score(y_test_enc, y_pred_mlp, average=\"macro\"), 4))\n",
    "print(classification_report(y_test_enc, y_pred_mlp, digits=3))"
   ]
  },
  {
   "cell_type": "code",
   "execution_count": null,
   "id": "2e1be868-34f1-463d-8820-7df9c4adbf30",
   "metadata": {},
   "outputs": [],
   "source": []
  }
 ],
 "metadata": {
  "kernelspec": {
   "display_name": "Python 3.10",
   "language": "python",
   "name": "py310"
  },
  "language_info": {
   "codemirror_mode": {
    "name": "ipython",
    "version": 3
   },
   "file_extension": ".py",
   "mimetype": "text/x-python",
   "name": "python",
   "nbconvert_exporter": "python",
   "pygments_lexer": "ipython3",
   "version": "3.10.18"
  }
 },
 "nbformat": 4,
 "nbformat_minor": 5
}
