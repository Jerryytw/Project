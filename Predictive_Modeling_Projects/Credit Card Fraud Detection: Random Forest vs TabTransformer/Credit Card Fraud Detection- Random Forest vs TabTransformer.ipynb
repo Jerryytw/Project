{
 "cells": [
  {
   "cell_type": "code",
   "execution_count": 30,
   "metadata": {},
   "outputs": [
    {
     "name": "stdout",
     "output_type": "stream",
     "text": [
      "Requirement already satisfied: imbalanced-learn in /opt/homebrew/lib/python3.10/site-packages (0.14.0)\n",
      "Requirement already satisfied: numpy<3,>=1.25.2 in /opt/homebrew/lib/python3.10/site-packages (from imbalanced-learn) (1.26.4)\n",
      "Requirement already satisfied: scipy<2,>=1.11.4 in /opt/homebrew/lib/python3.10/site-packages (from imbalanced-learn) (1.15.3)\n",
      "Requirement already satisfied: scikit-learn<2,>=1.4.2 in /opt/homebrew/lib/python3.10/site-packages (from imbalanced-learn) (1.7.1)\n",
      "Requirement already satisfied: joblib<2,>=1.2.0 in /opt/homebrew/lib/python3.10/site-packages (from imbalanced-learn) (1.5.1)\n",
      "Requirement already satisfied: threadpoolctl<4,>=2.0.0 in /opt/homebrew/lib/python3.10/site-packages (from imbalanced-learn) (3.6.0)\n",
      "\n",
      "\u001b[1m[\u001b[0m\u001b[34;49mnotice\u001b[0m\u001b[1;39;49m]\u001b[0m\u001b[39;49m A new release of pip is available: \u001b[0m\u001b[31;49m25.1.1\u001b[0m\u001b[39;49m -> \u001b[0m\u001b[32;49m25.2\u001b[0m\n",
      "\u001b[1m[\u001b[0m\u001b[34;49mnotice\u001b[0m\u001b[1;39;49m]\u001b[0m\u001b[39;49m To update, run: \u001b[0m\u001b[32;49m/opt/homebrew/opt/python@3.10/bin/python3.10 -m pip install --upgrade pip\u001b[0m\n",
      "Collecting geopy\n",
      "  Downloading geopy-2.4.1-py3-none-any.whl.metadata (6.8 kB)\n",
      "Collecting geographiclib<3,>=1.52 (from geopy)\n",
      "  Downloading geographiclib-2.1-py3-none-any.whl.metadata (1.6 kB)\n",
      "Downloading geopy-2.4.1-py3-none-any.whl (125 kB)\n",
      "Downloading geographiclib-2.1-py3-none-any.whl (40 kB)\n",
      "Installing collected packages: geographiclib, geopy\n",
      "\u001b[2K   \u001b[90m━━━━━━━━━━━━━━━━━━━━━━━━━━━━━━━━━━━━━━━━\u001b[0m \u001b[32m2/2\u001b[0m [geopy]\n",
      "\u001b[1A\u001b[2KSuccessfully installed geographiclib-2.1 geopy-2.4.1\n",
      "\n",
      "\u001b[1m[\u001b[0m\u001b[34;49mnotice\u001b[0m\u001b[1;39;49m]\u001b[0m\u001b[39;49m A new release of pip is available: \u001b[0m\u001b[31;49m25.1.1\u001b[0m\u001b[39;49m -> \u001b[0m\u001b[32;49m25.2\u001b[0m\n",
      "\u001b[1m[\u001b[0m\u001b[34;49mnotice\u001b[0m\u001b[1;39;49m]\u001b[0m\u001b[39;49m To update, run: \u001b[0m\u001b[32;49m/opt/homebrew/opt/python@3.10/bin/python3.10 -m pip install --upgrade pip\u001b[0m\n"
     ]
    }
   ],
   "source": [
    "import sys\n",
    "!{sys.executable} -m pip install imbalanced-learn\n",
    "import sys\n",
    "!{sys.executable} -m pip install geopy"
   ]
  },
  {
   "cell_type": "code",
   "execution_count": 22,
   "metadata": {},
   "outputs": [],
   "source": [
    "# Basic packages\n",
    "import pandas as pd\n",
    "import numpy as np\n",
    "import matplotlib.pyplot as plt\n",
    "import seaborn as sns\n",
    "\n",
    "# ML & DL packages\n",
    "from sklearn.model_selection import train_test_split\n",
    "from sklearn.preprocessing import StandardScaler, LabelEncoder\n",
    "from sklearn.metrics import classification_report, confusion_matrix, roc_auc_score, roc_curve\n",
    "\n",
    "from imblearn.over_sampling import SMOTE\n",
    "\n",
    "# TensorFlow / Keras\n",
    "import tensorflow as tf\n",
    "from tensorflow.keras import Sequential\n",
    "from tensorflow.keras.layers import Dense, Dropout\n",
    "from tensorflow.keras.callbacks import EarlyStopping\n"
   ]
  },
  {
   "cell_type": "code",
   "execution_count": 26,
   "metadata": {},
   "outputs": [
    {
     "name": "stdout",
     "output_type": "stream",
     "text": [
      "Dataset shape: (1296675, 24)\n"
     ]
    },
    {
     "data": {
      "text/html": [
       "<div>\n",
       "<style scoped>\n",
       "    .dataframe tbody tr th:only-of-type {\n",
       "        vertical-align: middle;\n",
       "    }\n",
       "\n",
       "    .dataframe tbody tr th {\n",
       "        vertical-align: top;\n",
       "    }\n",
       "\n",
       "    .dataframe thead th {\n",
       "        text-align: right;\n",
       "    }\n",
       "</style>\n",
       "<table border=\"1\" class=\"dataframe\">\n",
       "  <thead>\n",
       "    <tr style=\"text-align: right;\">\n",
       "      <th></th>\n",
       "      <th>Unnamed: 0</th>\n",
       "      <th>trans_date_trans_time</th>\n",
       "      <th>cc_num</th>\n",
       "      <th>merchant</th>\n",
       "      <th>category</th>\n",
       "      <th>amt</th>\n",
       "      <th>first</th>\n",
       "      <th>last</th>\n",
       "      <th>gender</th>\n",
       "      <th>street</th>\n",
       "      <th>city</th>\n",
       "      <th>state</th>\n",
       "      <th>zip</th>\n",
       "      <th>lat</th>\n",
       "      <th>long</th>\n",
       "      <th>city_pop</th>\n",
       "      <th>job</th>\n",
       "      <th>dob</th>\n",
       "      <th>trans_num</th>\n",
       "      <th>unix_time</th>\n",
       "      <th>merch_lat</th>\n",
       "      <th>merch_long</th>\n",
       "      <th>is_fraud</th>\n",
       "      <th>merch_zipcode</th>\n",
       "    </tr>\n",
       "  </thead>\n",
       "  <tbody>\n",
       "    <tr>\n",
       "      <th>0</th>\n",
       "      <td>0</td>\n",
       "      <td>2019-01-01 00:00:18</td>\n",
       "      <td>2703186189652095</td>\n",
       "      <td>fraud_Rippin, Kub and Mann</td>\n",
       "      <td>misc_net</td>\n",
       "      <td>4.97</td>\n",
       "      <td>Jennifer</td>\n",
       "      <td>Banks</td>\n",
       "      <td>F</td>\n",
       "      <td>561 Perry Cove</td>\n",
       "      <td>Moravian Falls</td>\n",
       "      <td>NC</td>\n",
       "      <td>28654</td>\n",
       "      <td>36.0788</td>\n",
       "      <td>-81.1781</td>\n",
       "      <td>3495</td>\n",
       "      <td>Psychologist, counselling</td>\n",
       "      <td>1988-03-09</td>\n",
       "      <td>0b242abb623afc578575680df30655b9</td>\n",
       "      <td>1325376018</td>\n",
       "      <td>36.011293</td>\n",
       "      <td>-82.048315</td>\n",
       "      <td>0</td>\n",
       "      <td>28705.0</td>\n",
       "    </tr>\n",
       "    <tr>\n",
       "      <th>1</th>\n",
       "      <td>1</td>\n",
       "      <td>2019-01-01 00:00:44</td>\n",
       "      <td>630423337322</td>\n",
       "      <td>fraud_Heller, Gutmann and Zieme</td>\n",
       "      <td>grocery_pos</td>\n",
       "      <td>107.23</td>\n",
       "      <td>Stephanie</td>\n",
       "      <td>Gill</td>\n",
       "      <td>F</td>\n",
       "      <td>43039 Riley Greens Suite 393</td>\n",
       "      <td>Orient</td>\n",
       "      <td>WA</td>\n",
       "      <td>99160</td>\n",
       "      <td>48.8878</td>\n",
       "      <td>-118.2105</td>\n",
       "      <td>149</td>\n",
       "      <td>Special educational needs teacher</td>\n",
       "      <td>1978-06-21</td>\n",
       "      <td>1f76529f8574734946361c461b024d99</td>\n",
       "      <td>1325376044</td>\n",
       "      <td>49.159047</td>\n",
       "      <td>-118.186462</td>\n",
       "      <td>0</td>\n",
       "      <td>NaN</td>\n",
       "    </tr>\n",
       "    <tr>\n",
       "      <th>2</th>\n",
       "      <td>2</td>\n",
       "      <td>2019-01-01 00:00:51</td>\n",
       "      <td>38859492057661</td>\n",
       "      <td>fraud_Lind-Buckridge</td>\n",
       "      <td>entertainment</td>\n",
       "      <td>220.11</td>\n",
       "      <td>Edward</td>\n",
       "      <td>Sanchez</td>\n",
       "      <td>M</td>\n",
       "      <td>594 White Dale Suite 530</td>\n",
       "      <td>Malad City</td>\n",
       "      <td>ID</td>\n",
       "      <td>83252</td>\n",
       "      <td>42.1808</td>\n",
       "      <td>-112.2620</td>\n",
       "      <td>4154</td>\n",
       "      <td>Nature conservation officer</td>\n",
       "      <td>1962-01-19</td>\n",
       "      <td>a1a22d70485983eac12b5b88dad1cf95</td>\n",
       "      <td>1325376051</td>\n",
       "      <td>43.150704</td>\n",
       "      <td>-112.154481</td>\n",
       "      <td>0</td>\n",
       "      <td>83236.0</td>\n",
       "    </tr>\n",
       "    <tr>\n",
       "      <th>3</th>\n",
       "      <td>3</td>\n",
       "      <td>2019-01-01 00:01:16</td>\n",
       "      <td>3534093764340240</td>\n",
       "      <td>fraud_Kutch, Hermiston and Farrell</td>\n",
       "      <td>gas_transport</td>\n",
       "      <td>45.00</td>\n",
       "      <td>Jeremy</td>\n",
       "      <td>White</td>\n",
       "      <td>M</td>\n",
       "      <td>9443 Cynthia Court Apt. 038</td>\n",
       "      <td>Boulder</td>\n",
       "      <td>MT</td>\n",
       "      <td>59632</td>\n",
       "      <td>46.2306</td>\n",
       "      <td>-112.1138</td>\n",
       "      <td>1939</td>\n",
       "      <td>Patent attorney</td>\n",
       "      <td>1967-01-12</td>\n",
       "      <td>6b849c168bdad6f867558c3793159a81</td>\n",
       "      <td>1325376076</td>\n",
       "      <td>47.034331</td>\n",
       "      <td>-112.561071</td>\n",
       "      <td>0</td>\n",
       "      <td>NaN</td>\n",
       "    </tr>\n",
       "    <tr>\n",
       "      <th>4</th>\n",
       "      <td>4</td>\n",
       "      <td>2019-01-01 00:03:06</td>\n",
       "      <td>375534208663984</td>\n",
       "      <td>fraud_Keeling-Crist</td>\n",
       "      <td>misc_pos</td>\n",
       "      <td>41.96</td>\n",
       "      <td>Tyler</td>\n",
       "      <td>Garcia</td>\n",
       "      <td>M</td>\n",
       "      <td>408 Bradley Rest</td>\n",
       "      <td>Doe Hill</td>\n",
       "      <td>VA</td>\n",
       "      <td>24433</td>\n",
       "      <td>38.4207</td>\n",
       "      <td>-79.4629</td>\n",
       "      <td>99</td>\n",
       "      <td>Dance movement psychotherapist</td>\n",
       "      <td>1986-03-28</td>\n",
       "      <td>a41d7549acf90789359a9aa5346dcb46</td>\n",
       "      <td>1325376186</td>\n",
       "      <td>38.674999</td>\n",
       "      <td>-78.632459</td>\n",
       "      <td>0</td>\n",
       "      <td>22844.0</td>\n",
       "    </tr>\n",
       "  </tbody>\n",
       "</table>\n",
       "</div>"
      ],
      "text/plain": [
       "   Unnamed: 0 trans_date_trans_time            cc_num                            merchant       category     amt      first     last gender                        street            city state    zip      lat      long  city_pop                                job         dob                         trans_num   unix_time  merch_lat  merch_long  is_fraud  merch_zipcode\n",
       "0           0   2019-01-01 00:00:18  2703186189652095          fraud_Rippin, Kub and Mann       misc_net    4.97   Jennifer    Banks      F                561 Perry Cove  Moravian Falls    NC  28654  36.0788  -81.1781      3495          Psychologist, counselling  1988-03-09  0b242abb623afc578575680df30655b9  1325376018  36.011293  -82.048315         0        28705.0\n",
       "1           1   2019-01-01 00:00:44      630423337322     fraud_Heller, Gutmann and Zieme    grocery_pos  107.23  Stephanie     Gill      F  43039 Riley Greens Suite 393          Orient    WA  99160  48.8878 -118.2105       149  Special educational needs teacher  1978-06-21  1f76529f8574734946361c461b024d99  1325376044  49.159047 -118.186462         0            NaN\n",
       "2           2   2019-01-01 00:00:51    38859492057661                fraud_Lind-Buckridge  entertainment  220.11     Edward  Sanchez      M      594 White Dale Suite 530      Malad City    ID  83252  42.1808 -112.2620      4154        Nature conservation officer  1962-01-19  a1a22d70485983eac12b5b88dad1cf95  1325376051  43.150704 -112.154481         0        83236.0\n",
       "3           3   2019-01-01 00:01:16  3534093764340240  fraud_Kutch, Hermiston and Farrell  gas_transport   45.00     Jeremy    White      M   9443 Cynthia Court Apt. 038         Boulder    MT  59632  46.2306 -112.1138      1939                    Patent attorney  1967-01-12  6b849c168bdad6f867558c3793159a81  1325376076  47.034331 -112.561071         0            NaN\n",
       "4           4   2019-01-01 00:03:06   375534208663984                 fraud_Keeling-Crist       misc_pos   41.96      Tyler   Garcia      M              408 Bradley Rest        Doe Hill    VA  24433  38.4207  -79.4629        99     Dance movement psychotherapist  1986-03-28  a41d7549acf90789359a9aa5346dcb46  1325376186  38.674999  -78.632459         0        22844.0"
      ]
     },
     "execution_count": 26,
     "metadata": {},
     "output_type": "execute_result"
    }
   ],
   "source": [
    "# Load dataset\n",
    "df = pd.read_csv(\"/Users/jerry/Desktop/Personal Project/Credit Risk/credit_card_transactions.csv\")\n",
    "\n",
    "# Show shape and first rows\n",
    "print(\"Dataset shape:\", df.shape)\n",
    "df.head()\n"
   ]
  },
  {
   "cell_type": "code",
   "execution_count": 27,
   "metadata": {},
   "outputs": [
    {
     "data": {
      "text/html": [
       "<div>\n",
       "<style scoped>\n",
       "    .dataframe tbody tr th:only-of-type {\n",
       "        vertical-align: middle;\n",
       "    }\n",
       "\n",
       "    .dataframe tbody tr th {\n",
       "        vertical-align: top;\n",
       "    }\n",
       "\n",
       "    .dataframe thead th {\n",
       "        text-align: right;\n",
       "    }\n",
       "</style>\n",
       "<table border=\"1\" class=\"dataframe\">\n",
       "  <thead>\n",
       "    <tr style=\"text-align: right;\">\n",
       "      <th></th>\n",
       "      <th>Missing Values</th>\n",
       "      <th>Missing Ratio (%)</th>\n",
       "    </tr>\n",
       "  </thead>\n",
       "  <tbody>\n",
       "    <tr>\n",
       "      <th>merch_zipcode</th>\n",
       "      <td>195973</td>\n",
       "      <td>15.11</td>\n",
       "    </tr>\n",
       "    <tr>\n",
       "      <th>trans_date_trans_time</th>\n",
       "      <td>0</td>\n",
       "      <td>0.00</td>\n",
       "    </tr>\n",
       "    <tr>\n",
       "      <th>is_fraud</th>\n",
       "      <td>0</td>\n",
       "      <td>0.00</td>\n",
       "    </tr>\n",
       "    <tr>\n",
       "      <th>merch_long</th>\n",
       "      <td>0</td>\n",
       "      <td>0.00</td>\n",
       "    </tr>\n",
       "    <tr>\n",
       "      <th>merch_lat</th>\n",
       "      <td>0</td>\n",
       "      <td>0.00</td>\n",
       "    </tr>\n",
       "    <tr>\n",
       "      <th>unix_time</th>\n",
       "      <td>0</td>\n",
       "      <td>0.00</td>\n",
       "    </tr>\n",
       "    <tr>\n",
       "      <th>trans_num</th>\n",
       "      <td>0</td>\n",
       "      <td>0.00</td>\n",
       "    </tr>\n",
       "    <tr>\n",
       "      <th>dob</th>\n",
       "      <td>0</td>\n",
       "      <td>0.00</td>\n",
       "    </tr>\n",
       "    <tr>\n",
       "      <th>job</th>\n",
       "      <td>0</td>\n",
       "      <td>0.00</td>\n",
       "    </tr>\n",
       "    <tr>\n",
       "      <th>city_pop</th>\n",
       "      <td>0</td>\n",
       "      <td>0.00</td>\n",
       "    </tr>\n",
       "    <tr>\n",
       "      <th>long</th>\n",
       "      <td>0</td>\n",
       "      <td>0.00</td>\n",
       "    </tr>\n",
       "    <tr>\n",
       "      <th>lat</th>\n",
       "      <td>0</td>\n",
       "      <td>0.00</td>\n",
       "    </tr>\n",
       "    <tr>\n",
       "      <th>Unnamed: 0</th>\n",
       "      <td>0</td>\n",
       "      <td>0.00</td>\n",
       "    </tr>\n",
       "    <tr>\n",
       "      <th>state</th>\n",
       "      <td>0</td>\n",
       "      <td>0.00</td>\n",
       "    </tr>\n",
       "    <tr>\n",
       "      <th>city</th>\n",
       "      <td>0</td>\n",
       "      <td>0.00</td>\n",
       "    </tr>\n",
       "    <tr>\n",
       "      <th>street</th>\n",
       "      <td>0</td>\n",
       "      <td>0.00</td>\n",
       "    </tr>\n",
       "    <tr>\n",
       "      <th>gender</th>\n",
       "      <td>0</td>\n",
       "      <td>0.00</td>\n",
       "    </tr>\n",
       "    <tr>\n",
       "      <th>last</th>\n",
       "      <td>0</td>\n",
       "      <td>0.00</td>\n",
       "    </tr>\n",
       "    <tr>\n",
       "      <th>first</th>\n",
       "      <td>0</td>\n",
       "      <td>0.00</td>\n",
       "    </tr>\n",
       "    <tr>\n",
       "      <th>amt</th>\n",
       "      <td>0</td>\n",
       "      <td>0.00</td>\n",
       "    </tr>\n",
       "    <tr>\n",
       "      <th>category</th>\n",
       "      <td>0</td>\n",
       "      <td>0.00</td>\n",
       "    </tr>\n",
       "    <tr>\n",
       "      <th>merchant</th>\n",
       "      <td>0</td>\n",
       "      <td>0.00</td>\n",
       "    </tr>\n",
       "    <tr>\n",
       "      <th>cc_num</th>\n",
       "      <td>0</td>\n",
       "      <td>0.00</td>\n",
       "    </tr>\n",
       "    <tr>\n",
       "      <th>zip</th>\n",
       "      <td>0</td>\n",
       "      <td>0.00</td>\n",
       "    </tr>\n",
       "  </tbody>\n",
       "</table>\n",
       "</div>"
      ],
      "text/plain": [
       "                       Missing Values  Missing Ratio (%)\n",
       "merch_zipcode                  195973              15.11\n",
       "trans_date_trans_time               0               0.00\n",
       "is_fraud                            0               0.00\n",
       "merch_long                          0               0.00\n",
       "merch_lat                           0               0.00\n",
       "unix_time                           0               0.00\n",
       "trans_num                           0               0.00\n",
       "dob                                 0               0.00\n",
       "job                                 0               0.00\n",
       "city_pop                            0               0.00\n",
       "long                                0               0.00\n",
       "lat                                 0               0.00\n",
       "Unnamed: 0                          0               0.00\n",
       "state                               0               0.00\n",
       "city                                0               0.00\n",
       "street                              0               0.00\n",
       "gender                              0               0.00\n",
       "last                                0               0.00\n",
       "first                               0               0.00\n",
       "amt                                 0               0.00\n",
       "category                            0               0.00\n",
       "merchant                            0               0.00\n",
       "cc_num                              0               0.00\n",
       "zip                                 0               0.00"
      ]
     },
     "metadata": {},
     "output_type": "display_data"
    },
    {
     "data": {
      "image/png": "[encoded data removed]",
      "text/plain": [
       "<Figure size 640x480 with 1 Axes>"
      ]
     },
     "metadata": {},
     "output_type": "display_data"
    }
   ],
   "source": [
    "# Missing values\n",
    "missing_df = df.isnull().sum().to_frame(\"Missing Values\")\n",
    "missing_df[\"Missing Ratio (%)\"] = (df.isnull().sum() / len(df) * 100).round(2)\n",
    "display(missing_df.sort_values(\"Missing Ratio (%)\", ascending=False))\n",
    "\n",
    "# Target variable distribution\n",
    "sns.countplot(x=\"is_fraud\", data=df)\n",
    "plt.title(\"Fraud vs Non-Fraud Distribution\")\n",
    "plt.show()\n"
   ]
  },
  {
   "cell_type": "code",
   "execution_count": 28,
   "metadata": {},
   "outputs": [
    {
     "name": "stdout",
     "output_type": "stream",
     "text": [
      "Remaining rows after dropna: 1100702\n",
      "Remaining columns: 24\n",
      "\n",
      "Fraud distribution (after removing nulls):\n",
      "is_fraud\n",
      "0    1094339\n",
      "1       6363\n",
      "Name: count, dtype: int64\n",
      "\n",
      "Fraud ratio (%):\n",
      "is_fraud\n",
      "0    99.42\n",
      "1     0.58\n",
      "Name: count, dtype: float64\n"
     ]
    },
    {
     "data": {
      "image/png": "[encoded data removed]",
      "text/plain": [
       "<Figure size 640x480 with 1 Axes>"
      ]
     },
     "metadata": {},
     "output_type": "display_data"
    }
   ],
   "source": [
    "# ===============================\n",
    "# Remove rows with null values\n",
    "# ===============================\n",
    "df = df.dropna()\n",
    "\n",
    "print(\"Remaining rows after dropna:\", df.shape[0])\n",
    "print(\"Remaining columns:\", df.shape[1])\n",
    "\n",
    "# ===============================\n",
    "# Fraud distribution after cleaning\n",
    "# ===============================\n",
    "fraud_counts = df[\"is_fraud\"].value_counts()\n",
    "fraud_ratio = (fraud_counts / len(df) * 100).round(2)\n",
    "\n",
    "print(\"\\nFraud distribution (after removing nulls):\")\n",
    "print(fraud_counts)\n",
    "print(\"\\nFraud ratio (%):\")\n",
    "print(fraud_ratio)\n",
    "\n",
    "# ===============================\n",
    "# Plot fraud vs non-fraud\n",
    "# ===============================\n",
    "sns.countplot(x=\"is_fraud\", data=df)\n",
    "plt.title(\"Fraud vs Non-Fraud Distribution (After dropna)\")\n",
    "plt.xlabel(\"is_fraud (0 = non-fraud, 1 = fraud)\")\n",
    "plt.ylabel(\"Count\")\n",
    "plt.show()\n"
   ]
  },
  {
   "cell_type": "code",
   "execution_count": 31,
   "metadata": {},
   "outputs": [],
   "source": [
    "\n",
    "from geopy.distance import geodesic\n",
    "from sklearn.preprocessing import LabelEncoder\n",
    "\n",
    "# --- Time-based features ---\n",
    "df[\"trans_date\"] = pd.to_datetime(df[\"unix_time\"], unit=\"s\")\n",
    "df[\"hour\"] = df[\"trans_date\"].dt.hour\n",
    "df[\"dayofweek\"] = df[\"trans_date\"].dt.dayofweek"
   ]
  },
  {
   "cell_type": "code",
   "execution_count": 32,
   "metadata": {},
   "outputs": [],
   "source": [
    "# --- Distance between customer and merchant ---\n",
    "df[\"distance\"] = df.apply(\n",
    "    lambda row: geodesic((row[\"lat\"], row[\"long\"]), (row[\"merch_lat\"], row[\"merch_long\"])).km,\n",
    "    axis=1\n",
    ")\n"
   ]
  },
  {
   "cell_type": "code",
   "execution_count": 33,
   "metadata": {},
   "outputs": [
    {
     "name": "stdout",
     "output_type": "stream",
     "text": [
      "Feature engineering done. Current shape: (1100702, 28)\n"
     ]
    }
   ],
   "source": [
    "# --- Encode categorical variables ---\n",
    "cat_cols = [\"category\", \"gender\", \"state\", \"job\"]\n",
    "for col in cat_cols:\n",
    "    le = LabelEncoder()\n",
    "    df[col] = le.fit_transform(df[col].astype(str))\n",
    "\n",
    "print(\"Feature engineering done. Current shape:\", df.shape)"
   ]
  },
  {
   "cell_type": "code",
   "execution_count": 37,
   "metadata": {},
   "outputs": [
    {
     "name": "stdout",
     "output_type": "stream",
     "text": [
      "Final feature matrix shape: (1100702, 18)\n",
      "Target distribution:\n",
      " is_fraud\n",
      "0    1094339\n",
      "1       6363\n",
      "Name: count, dtype: int64\n",
      "Remaining non-numeric columns: []\n"
     ]
    }
   ],
   "source": [
    "# Define feature matrix (X) and target (y)\n",
    "X = df.drop(columns=[\n",
    "    \"is_fraud\",               # target column\n",
    "    \"trans_date_trans_time\",  # raw datetime\n",
    "    \"dob\",                    # replaced by age\n",
    "    \"merchant\", \"first\", \"last\", \"street\", \"city\", \"trans_num\"  # IDs / text\n",
    "]).select_dtypes(include=[np.number])  # keep only numeric columns\n",
    "\n",
    "y = df[\"is_fraud\"]\n",
    "\n",
    "print(\"Final feature matrix shape:\", X.shape)\n",
    "print(\"Target distribution:\\n\", y.value_counts())\n",
    "print(\"Remaining non-numeric columns:\", X.select_dtypes(exclude=[np.number]).columns.tolist())\n"
   ]
  },
  {
   "cell_type": "code",
   "execution_count": 38,
   "metadata": {},
   "outputs": [
    {
     "name": "stdout",
     "output_type": "stream",
     "text": [
      "Non-numeric columns: []\n"
     ]
    }
   ],
   "source": [
    "# Show all non-numeric columns\n",
    "non_numeric_cols = X.select_dtypes(exclude=[np.number]).columns\n",
    "print(\"Non-numeric columns:\", non_numeric_cols.tolist())\n"
   ]
  },
  {
   "cell_type": "code",
   "execution_count": 40,
   "metadata": {},
   "outputs": [
    {
     "name": "stdout",
     "output_type": "stream",
     "text": [
      "Train set size: (770491, 18)\n",
      "Test set size: (330211, 18)\n",
      "\n",
      "Fraud distribution in training set (BEFORE SMOTE):\n",
      "is_fraud\n",
      "0    766037\n",
      "1      4454\n",
      "Name: count, dtype: int64\n",
      "is_fraud\n",
      "0    99.42\n",
      "1     0.58\n",
      "Name: proportion, dtype: float64\n",
      "\n",
      "Fraud distribution in training set (AFTER SMOTE):\n",
      "is_fraud\n",
      "0    766037\n",
      "1    766037\n",
      "Name: count, dtype: int64\n",
      "is_fraud\n",
      "0    50.0\n",
      "1    50.0\n",
      "Name: proportion, dtype: float64\n"
     ]
    }
   ],
   "source": [
    "from sklearn.model_selection import train_test_split\n",
    "from imblearn.over_sampling import SMOTE\n",
    "\n",
    "# ===============================\n",
    "# Train-Test Split\n",
    "# ===============================\n",
    "X_train, X_test, y_train, y_test = train_test_split(\n",
    "    X, y,\n",
    "    test_size=0.3,\n",
    "    random_state=42,\n",
    "    stratify=y   # keep same fraud ratio in train/test\n",
    ")\n",
    "\n",
    "print(\"Train set size:\", X_train.shape)\n",
    "print(\"Test set size:\", X_test.shape)\n",
    "\n",
    "# ===============================\n",
    "# Fraud ratio BEFORE SMOTE\n",
    "# ===============================\n",
    "print(\"\\nFraud distribution in training set (BEFORE SMOTE):\")\n",
    "print(y_train.value_counts())\n",
    "print((y_train.value_counts(normalize=True) * 100).round(2))\n",
    "\n",
    "# ===============================\n",
    "# Apply SMOTE\n",
    "# ===============================\n",
    "sm = SMOTE(random_state=42)\n",
    "X_train_res, y_train_res = sm.fit_resample(X_train, y_train)\n",
    "\n",
    "# ===============================\n",
    "# Fraud ratio AFTER SMOTE\n",
    "# ===============================\n",
    "print(\"\\nFraud distribution in training set (AFTER SMOTE):\")\n",
    "print(y_train_res.value_counts())\n",
    "print((y_train_res.value_counts(normalize=True) * 100).round(2))\n"
   ]
  },
  {
   "cell_type": "code",
   "execution_count": 41,
   "metadata": {},
   "outputs": [
    {
     "name": "stdout",
     "output_type": "stream",
     "text": [
      "=== Logistic Regression ===\n"
     ]
    },
    {
     "name": "stderr",
     "output_type": "stream",
     "text": [
      "/opt/homebrew/lib/python3.10/site-packages/sklearn/metrics/_classification.py:1731: UndefinedMetricWarning: Precision is ill-defined and being set to 0.0 in labels with no predicted samples. Use `zero_division` parameter to control this behavior.\n",
      "  _warn_prf(average, modifier, f\"{metric.capitalize()} is\", result.shape[0])\n",
      "/opt/homebrew/lib/python3.10/site-packages/sklearn/metrics/_classification.py:1731: UndefinedMetricWarning: Precision is ill-defined and being set to 0.0 in labels with no predicted samples. Use `zero_division` parameter to control this behavior.\n",
      "  _warn_prf(average, modifier, f\"{metric.capitalize()} is\", result.shape[0])\n",
      "/opt/homebrew/lib/python3.10/site-packages/sklearn/metrics/_classification.py:1731: UndefinedMetricWarning: Precision is ill-defined and being set to 0.0 in labels with no predicted samples. Use `zero_division` parameter to control this behavior.\n",
      "  _warn_prf(average, modifier, f\"{metric.capitalize()} is\", result.shape[0])\n"
     ]
    },
    {
     "name": "stdout",
     "output_type": "stream",
     "text": [
      "              precision    recall  f1-score   support\n",
      "\n",
      "           0     0.9942    1.0000    0.9971    328302\n",
      "           1     0.0000    0.0000    0.0000      1909\n",
      "\n",
      "    accuracy                         0.9942    330211\n",
      "   macro avg     0.4971    0.5000    0.4986    330211\n",
      "weighted avg     0.9885    0.9942    0.9913    330211\n",
      "\n",
      "AUC: 0.4967933946800232\n"
     ]
    }
   ],
   "source": [
    "##Logistic Regression (Baseline)\n",
    "from sklearn.linear_model import LogisticRegression\n",
    "from sklearn.metrics import classification_report, roc_auc_score\n",
    "\n",
    "# Train Logistic Regression\n",
    "lr = LogisticRegression(max_iter=1000, class_weight=\"balanced\", random_state=42)\n",
    "lr.fit(X_train_res, y_train_res)\n",
    "\n",
    "# Predict\n",
    "y_pred_lr = lr.predict(X_test)\n",
    "y_prob_lr = lr.predict_proba(X_test)[:, 1]\n",
    "\n",
    "# Evaluation\n",
    "print(\"=== Logistic Regression ===\")\n",
    "print(classification_report(y_test, y_pred_lr, digits=4))\n",
    "print(\"AUC:\", roc_auc_score(y_test, y_prob_lr))\n"
   ]
  },
  {
   "cell_type": "code",
   "execution_count": 42,
   "metadata": {},
   "outputs": [
    {
     "name": "stdout",
     "output_type": "stream",
     "text": [
      "              precision    recall  f1-score   support\n",
      "\n",
      "           0     0.0000    0.0000    0.0000    328302\n",
      "           1     0.0058    1.0000    0.0115      1909\n",
      "\n",
      "    accuracy                         0.0058    330211\n",
      "   macro avg     0.0029    0.5000    0.0057    330211\n",
      "weighted avg     0.0000    0.0058    0.0001    330211\n",
      "\n"
     ]
    },
    {
     "name": "stderr",
     "output_type": "stream",
     "text": [
      "/opt/homebrew/lib/python3.10/site-packages/sklearn/metrics/_classification.py:1731: UndefinedMetricWarning: Precision is ill-defined and being set to 0.0 in labels with no predicted samples. Use `zero_division` parameter to control this behavior.\n",
      "  _warn_prf(average, modifier, f\"{metric.capitalize()} is\", result.shape[0])\n",
      "/opt/homebrew/lib/python3.10/site-packages/sklearn/metrics/_classification.py:1731: UndefinedMetricWarning: Precision is ill-defined and being set to 0.0 in labels with no predicted samples. Use `zero_division` parameter to control this behavior.\n",
      "  _warn_prf(average, modifier, f\"{metric.capitalize()} is\", result.shape[0])\n",
      "/opt/homebrew/lib/python3.10/site-packages/sklearn/metrics/_classification.py:1731: UndefinedMetricWarning: Precision is ill-defined and being set to 0.0 in labels with no predicted samples. Use `zero_division` parameter to control this behavior.\n",
      "  _warn_prf(average, modifier, f\"{metric.capitalize()} is\", result.shape[0])\n"
     ]
    }
   ],
   "source": [
    "from sklearn.metrics import precision_recall_curve\n",
    "\n",
    "precisions, recalls, thresholds = precision_recall_curve(y_test, y_prob_lr)\n",
    "\n",
    "# Choose a lower threshold, e.g., 0.2\n",
    "y_pred_lr_adjusted = (y_prob_lr > 0.2).astype(int)\n",
    "print(classification_report(y_test, y_pred_lr_adjusted, digits=4))\n"
   ]
  },
  {
   "cell_type": "code",
   "execution_count": 43,
   "metadata": {},
   "outputs": [
    {
     "data": {
      "image/png": "[encoded data removed]",
      "text/plain": [
       "<Figure size 600x400 with 1 Axes>"
      ]
     },
     "metadata": {},
     "output_type": "display_data"
    }
   ],
   "source": [
    "from sklearn.metrics import precision_recall_curve\n",
    "\n",
    "precisions, recalls, thresholds = precision_recall_curve(y_test, y_prob_lr)\n",
    "\n",
    "plt.figure(figsize=(6,4))\n",
    "plt.plot(thresholds, precisions[:-1], label=\"Precision\")\n",
    "plt.plot(thresholds, recalls[:-1], label=\"Recall\")\n",
    "plt.xlabel(\"Threshold\")\n",
    "plt.ylabel(\"Score\")\n",
    "plt.title(\"Precision-Recall vs Threshold\")\n",
    "plt.legend()\n",
    "plt.show()\n"
   ]
  },
  {
   "cell_type": "code",
   "execution_count": 47,
   "metadata": {},
   "outputs": [
    {
     "name": "stdout",
     "output_type": "stream",
     "text": [
      "=== Random Forest ===\n",
      "              precision    recall  f1-score   support\n",
      "\n",
      "           0     0.9990    0.9886    0.9937    328302\n",
      "           1     0.2954    0.8250    0.4350      1909\n",
      "\n",
      "    accuracy                         0.9876    330211\n",
      "   macro avg     0.6472    0.9068    0.7144    330211\n",
      "weighted avg     0.9949    0.9876    0.9905    330211\n",
      "\n",
      "AUC: 0.9777223668637973\n"
     ]
    }
   ],
   "source": [
    "from sklearn.ensemble import RandomForestClassifier\n",
    "from sklearn.metrics import classification_report, roc_auc_score\n",
    "\n",
    "# Train Random Forest\n",
    "rf = RandomForestClassifier(\n",
    "    n_estimators=150,\n",
    "    max_depth=20,\n",
    "    random_state=42,\n",
    "    n_jobs=-1,\n",
    "    class_weight=\"balanced\"   # 给 fraud 类更多权重\n",
    ")\n",
    "rf.fit(X_train_res, y_train_res)\n",
    "\n",
    "# Predict\n",
    "y_pred_rf = rf.predict(X_test)\n",
    "y_prob_rf = rf.predict_proba(X_test)[:, 1]\n",
    "\n",
    "# Evaluation\n",
    "print(\"=== Random Forest ===\")\n",
    "print(classification_report(y_test, y_pred_rf, digits=4))\n",
    "print(\"AUC:\", roc_auc_score(y_test, y_prob_rf))\n"
   ]
  },
  {
   "cell_type": "code",
   "execution_count": 48,
   "metadata": {},
   "outputs": [
    {
     "name": "stdout",
     "output_type": "stream",
     "text": [
      "Average Precision Score (AP): 0.6509\n"
     ]
    }
   ],
   "source": [
    "from sklearn.metrics import precision_recall_curve, average_precision_score\n",
    "\n",
    "# Get precision, recall, thresholds\n",
    "precisions, recalls, thresholds = precision_recall_curve(y_test, y_prob_rf)\n",
    "\n",
    "# Average Precision (AP) score, 类似于 PR AUC\n",
    "ap_score = average_precision_score(y_test, y_prob_rf)\n",
    "print(\"Average Precision Score (AP):\", round(ap_score, 4))\n"
   ]
  },
  {
   "cell_type": "code",
   "execution_count": 49,
   "metadata": {},
   "outputs": [
    {
     "data": {
      "image/png": "[encoded data removed]",
      "text/plain": [
       "<Figure size 700x500 with 1 Axes>"
      ]
     },
     "metadata": {},
     "output_type": "display_data"
    }
   ],
   "source": [
    "plt.figure(figsize=(7,5))\n",
    "plt.plot(recalls, precisions, label=f\"PR Curve (AP={ap_score:.3f})\")\n",
    "plt.xlabel(\"Recall\")\n",
    "plt.ylabel(\"Precision\")\n",
    "plt.title(\"Precision-Recall Curve (Random Forest)\")\n",
    "plt.legend()\n",
    "plt.grid(True)\n",
    "plt.show()\n"
   ]
  },
  {
   "cell_type": "code",
   "execution_count": 50,
   "metadata": {},
   "outputs": [
    {
     "name": "stdout",
     "output_type": "stream",
     "text": [
      "Chosen threshold = 0.5082\n",
      "Precision = 0.300, Recall = 0.821\n"
     ]
    }
   ],
   "source": [
    "import numpy as np\n",
    "\n",
    "# 找到第一个同时满足 Recall >= 0.7 且 Precision >= 0.3 的阈值\n",
    "idx = np.where((recalls >= 0.7) & (precisions >= 0.3))[0][0]\n",
    "best_threshold = thresholds[idx]\n",
    "\n",
    "print(f\"Chosen threshold = {best_threshold:.4f}\")\n",
    "print(f\"Precision = {precisions[idx]:.3f}, Recall = {recalls[idx]:.3f}\")\n"
   ]
  },
  {
   "cell_type": "code",
   "execution_count": 52,
   "metadata": {},
   "outputs": [
    {
     "name": "stdout",
     "output_type": "stream",
     "text": [
      "=== Random Forest (Adjusted Threshold) ===\n",
      "              precision    recall  f1-score   support\n",
      "\n",
      "           0     0.9990    0.9889    0.9939    328302\n",
      "           1     0.3000    0.8214    0.4395      1909\n",
      "\n",
      "    accuracy                         0.9879    330211\n",
      "   macro avg     0.6495    0.9051    0.7167    330211\n",
      "weighted avg     0.9949    0.9879    0.9907    330211\n",
      "\n"
     ]
    }
   ],
   "source": [
    "y_pred_rf_adjusted = (y_prob_rf >= best_threshold).astype(int)\n",
    "\n",
    "from sklearn.metrics import classification_report\n",
    "print(\"=== Random Forest (Adjusted Threshold) ===\")\n",
    "print(classification_report(y_test, y_pred_rf_adjusted, digits=4))\n"
   ]
  },
  {
   "cell_type": "code",
   "execution_count": 53,
   "metadata": {},
   "outputs": [
    {
     "name": "stdout",
     "output_type": "stream",
     "text": [
      "Categorical cols used: ['category', 'gender', 'state', 'job']\n",
      "Numeric cols used: ['Unnamed: 0', 'cc_num', 'amt', 'zip', 'lat', 'long', 'city_pop', 'unix_time', 'merch_lat', 'merch_long', 'merch_zipcode', 'hour', 'dayofweek', 'distance']\n"
     ]
    },
    {
     "data": {
      "text/plain": [
       "[14, 2, 50, 493]"
      ]
     },
     "execution_count": 53,
     "metadata": {},
     "output_type": "execute_result"
    }
   ],
   "source": [
    "#Prepare categorical & numeric splits for TabTransformer\n",
    "import numpy as np\n",
    "import tensorflow as tf\n",
    "from tensorflow.keras import layers, Model\n",
    "\n",
    "# Identify categorical and numeric columns from your current X\n",
    "# (keep only those that actually exist)\n",
    "candidate_cat = [\"category\", \"gender\", \"state\", \"job\"]\n",
    "cat_cols = [c for c in candidate_cat if c in X.columns]\n",
    "num_cols = [c for c in X.columns if c not in cat_cols]\n",
    "\n",
    "print(\"Categorical cols used:\", cat_cols)\n",
    "print(\"Numeric cols used:\", num_cols)\n",
    "\n",
    "# Safety: ensure integer dtype for categorical indices\n",
    "X_train_cat = X_train_res[cat_cols].astype(\"int32\").values if cat_cols else None\n",
    "X_test_cat  = X_test[cat_cols].astype(\"int32\").values if cat_cols else None\n",
    "\n",
    "# Numeric features as float32\n",
    "X_train_num = X_train_res[num_cols].astype(\"float32\").values\n",
    "X_test_num  = X_test[num_cols].astype(\"float32\").values\n",
    "\n",
    "# Vocab sizes for each categorical column (LabelEncoder produced 0..K-1)\n",
    "vocab_sizes = [int(X[c].nunique()) for c in cat_cols]\n",
    "vocab_sizes\n"
   ]
  },
  {
   "cell_type": "code",
   "execution_count": 54,
   "metadata": {},
   "outputs": [],
   "source": [
    "#scale numeric features\n",
    "from sklearn.preprocessing import StandardScaler\n",
    "\n",
    "num_scaler = StandardScaler()\n",
    "X_train_num_scaled = num_scaler.fit_transform(X_train_num)\n",
    "X_test_num_scaled  = num_scaler.transform(X_test_num)\n"
   ]
  },
  {
   "cell_type": "code",
   "execution_count": 56,
   "metadata": {},
   "outputs": [],
   "source": [
    "#Build a lightweight TabTransformer in Keras\n",
    "# A small Transformer encoder block\n",
    "class TransformerBlock(layers.Layer):\n",
    "    def __init__(self, d_model=32, num_heads=4, mlp_ratio=2, dropout=0.1, **kwargs):\n",
    "        super().__init__(**kwargs)\n",
    "        self.mha = layers.MultiHeadAttention(num_heads=num_heads, key_dim=d_model//num_heads, dropout=dropout)\n",
    "        self.dropout1 = layers.Dropout(dropout)\n",
    "        self.norm1 = layers.LayerNormalization(epsilon=1e-6)\n",
    "\n",
    "        self.ffn = tf.keras.Sequential([\n",
    "            layers.Dense(d_model * mlp_ratio, activation=\"gelu\"),\n",
    "            layers.Dropout(dropout),\n",
    "            layers.Dense(d_model)\n",
    "        ])\n",
    "        self.dropout2 = layers.Dropout(dropout)\n",
    "        self.norm2 = layers.LayerNormalization(epsilon=1e-6)\n",
    "\n",
    "    def call(self, x, training=False):\n",
    "        attn_out = self.mha(x, x, training=training)\n",
    "        x = self.norm1(x + self.dropout1(attn_out, training=training))\n",
    "        ffn_out = self.ffn(x, training=training)\n",
    "        x = self.norm2(x + self.dropout2(ffn_out, training=training))\n",
    "        return x\n",
    "\n",
    "def build_tabtransformer(vocab_sizes, n_num, d_model=32, num_heads=4, n_blocks=2, dropout=0.1):\n",
    "    \"\"\"\n",
    "    vocab_sizes: list of ints, vocab size for each categorical column\n",
    "    n_num: number of numeric features\n",
    "    \"\"\"\n",
    "    inputs = []\n",
    "    cat_tokens = []\n",
    "    # Categorical inputs -> embeddings -> tokens\n",
    "    for i, vs in enumerate(vocab_sizes):\n",
    "        inp = layers.Input(shape=(), dtype=\"int32\", name=f\"cat_{i}\")\n",
    "        emb_dim = min(32, max(8, int(np.ceil(vs ** 0.25) * 4)))  # a simple rule-of-thumb\n",
    "        emb = layers.Embedding(input_dim=vs, output_dim=d_model, name=f\"emb_{i}\")(inp)\n",
    "        # expand to token dimension (batch, 1, d_model)\n",
    "        tok = layers.Reshape((1, d_model))(emb)\n",
    "        inputs.append(inp)\n",
    "        cat_tokens.append(tok)\n",
    "\n",
    "    if len(cat_tokens) > 0:\n",
    "        x_cat = layers.Concatenate(axis=1)(cat_tokens)  # (batch, n_cat, d_model)\n",
    "        # Optional: add trainable column embeddings\n",
    "        col_emb = self_col_emb = tf.Variable(\n",
    "            tf.random.normal([x_cat.shape[1], d_model]), trainable=True, name=\"col_emb\"\n",
    "        )\n",
    "        # Add column embeddings\n",
    "        x_cat = x_cat + col_emb\n",
    "\n",
    "        # Transformer encoder blocks\n",
    "        for _ in range(n_blocks):\n",
    "            x_cat = TransformerBlock(d_model=d_model, num_heads=num_heads, dropout=dropout)(x_cat)\n",
    "\n",
    "        # Pooling over tokens\n",
    "        x_cat = layers.GlobalAveragePooling1D()(x_cat)\n",
    "    else:\n",
    "        x_cat = None\n",
    "\n",
    "    # Numeric branch\n",
    "    num_inp = layers.Input(shape=(n_num,), dtype=\"float32\", name=\"num_inp\")\n",
    "    inputs.append(num_inp)\n",
    "    x_num = layers.Dense(d_model, activation=\"relu\")(num_inp)\n",
    "\n",
    "    # Fuse categorical & numeric\n",
    "    if x_cat is not None:\n",
    "        h = layers.Concatenate()([x_cat, x_num])\n",
    "    else:\n",
    "        h = x_num\n",
    "\n",
    "    h = layers.Dropout(dropout)(h)\n",
    "    h = layers.Dense(64, activation=\"relu\")(h)\n",
    "    h = layers.Dropout(dropout)(h)\n",
    "    out = layers.Dense(1, activation=\"sigmoid\")(h)\n",
    "\n",
    "    model = Model(inputs=inputs, outputs=out)\n",
    "    return model\n"
   ]
  },
  {
   "cell_type": "code",
   "execution_count": 59,
   "metadata": {},
   "outputs": [
    {
     "name": "stdout",
     "output_type": "stream",
     "text": [
      "Epoch 1/12\n",
      "\u001b[1m1197/1197\u001b[0m \u001b[32m━━━━━━━━━━━━━━━━━━━━\u001b[0m\u001b[37m\u001b[0m \u001b[1m59s\u001b[0m 45ms/step - auc: 0.9760 - auc_pr: 0.9679 - loss: 0.1805 - prec_at_rec70: 0.9912 - rec_at_prec30: 1.0000 - val_auc: 0.0000e+00 - val_auc_pr: 1.0000 - val_loss: 0.1897 - val_prec_at_rec70: 1.0000 - val_rec_at_prec30: 1.0000\n",
      "Epoch 2/12\n",
      "\u001b[1m1197/1197\u001b[0m \u001b[32m━━━━━━━━━━━━━━━━━━━━\u001b[0m\u001b[37m\u001b[0m \u001b[1m52s\u001b[0m 43ms/step - auc: 0.9835 - auc_pr: 0.9770 - loss: 0.1510 - prec_at_rec70: 0.9947 - rec_at_prec30: 1.0000 - val_auc: 0.0000e+00 - val_auc_pr: 1.0000 - val_loss: 0.1807 - val_prec_at_rec70: 1.0000 - val_rec_at_prec30: 1.0000\n",
      "Epoch 3/12\n",
      "\u001b[1m1197/1197\u001b[0m \u001b[32m━━━━━━━━━━━━━━━━━━━━\u001b[0m\u001b[37m\u001b[0m \u001b[1m52s\u001b[0m 44ms/step - auc: 0.9883 - auc_pr: 0.9831 - loss: 0.1283 - prec_at_rec70: 0.9958 - rec_at_prec30: 1.0000 - val_auc: 0.0000e+00 - val_auc_pr: 1.0000 - val_loss: 0.1622 - val_prec_at_rec70: 1.0000 - val_rec_at_prec30: 1.0000\n",
      "Epoch 4/12\n",
      "\u001b[1m1197/1197\u001b[0m \u001b[32m━━━━━━━━━━━━━━━━━━━━\u001b[0m\u001b[37m\u001b[0m \u001b[1m52s\u001b[0m 44ms/step - auc: 0.9913 - auc_pr: 0.9872 - loss: 0.1104 - prec_at_rec70: 0.9970 - rec_at_prec30: 1.0000 - val_auc: 0.0000e+00 - val_auc_pr: 1.0000 - val_loss: 0.1277 - val_prec_at_rec70: 1.0000 - val_rec_at_prec30: 1.0000\n"
     ]
    }
   ],
   "source": [
    "# --- compile with PR AUC as the primary metric ---\n",
    "auc_pr = tf.keras.metrics.AUC(name=\"auc_pr\", curve=\"PR\")   # PR AUC (better for imbalance)\n",
    "auc_roc = tf.keras.metrics.AUC(name=\"auc\")                 # optional: ROC AUC (reference)\n",
    "prec_at_rec70 = tf.keras.metrics.PrecisionAtRecall(0.70, name=\"prec_at_rec70\")  # P@R>=0.70\n",
    "rec_at_prec30 = tf.keras.metrics.RecallAtPrecision(0.30, name=\"rec_at_prec30\") # R@P>=0.30\n",
    "\n",
    "tabtr.compile(\n",
    "    optimizer=\"adam\",\n",
    "    loss=\"binary_crossentropy\",   # or focal_loss()\n",
    "    metrics=[auc_pr, auc_roc, prec_at_rec70, rec_at_prec30]\n",
    ")\n",
    "\n",
    "# --- early stopping monitors PR AUC instead of accuracy/recall ---\n",
    "early = EarlyStopping(\n",
    "    monitor=\"val_auc_pr\",\n",
    "    mode=\"max\",\n",
    "    patience=3,\n",
    "    restore_best_weights=True\n",
    ")\n",
    "\n",
    "history = tabtr.fit(\n",
    "    pack_inputs(X_train_cat, X_train_num_scaled),\n",
    "    y_train_res.values,\n",
    "    validation_split=0.2,\n",
    "    epochs=12,\n",
    "    batch_size=1024,\n",
    "    callbacks=[early],\n",
    "    verbose=1\n",
    ")\n"
   ]
  },
  {
   "cell_type": "code",
   "execution_count": 62,
   "metadata": {},
   "outputs": [
    {
     "name": "stdout",
     "output_type": "stream",
     "text": [
      "\u001b[1m162/162\u001b[0m \u001b[32m━━━━━━━━━━━━━━━━━━━━\u001b[0m\u001b[37m\u001b[0m \u001b[1m3s\u001b[0m 17ms/step\n"
     ]
    }
   ],
   "source": [
    "# Generate predicted probabilities for TabTransformer\n",
    "y_prob_tabtr = tabtr.predict(\n",
    "    pack_inputs(X_test_cat, X_test_num_scaled),\n",
    "    batch_size=2048\n",
    ").ravel()\n"
   ]
  },
  {
   "cell_type": "code",
   "execution_count": 63,
   "metadata": {},
   "outputs": [
    {
     "name": "stdout",
     "output_type": "stream",
     "text": [
      "AP (PR AUC): 0.6533 | ROC AUC: 0.9485\n"
     ]
    }
   ],
   "source": [
    "from sklearn.metrics import average_precision_score, roc_auc_score\n",
    "\n",
    "ap = average_precision_score(y_test, y_prob_tabtr)   # PR AUC (AP)\n",
    "roc = roc_auc_score(y_test, y_prob_tabtr)\n",
    "\n",
    "print(f\"AP (PR AUC): {ap:.4f} | ROC AUC: {roc:.4f}\")\n"
   ]
  },
  {
   "cell_type": "code",
   "execution_count": 64,
   "metadata": {},
   "outputs": [
    {
     "name": "stdout",
     "output_type": "stream",
     "text": [
      "Collected probs: LogReg\n",
      "Collected probs: RandomForest\n",
      "\u001b[1m162/162\u001b[0m \u001b[32m━━━━━━━━━━━━━━━━━━━━\u001b[0m\u001b[37m\u001b[0m \u001b[1m3s\u001b[0m 17ms/step\n",
      "Collected probs: TabTransformer\n"
     ]
    }
   ],
   "source": [
    "# Ensure you have: lr, rf, tabtr models; X_test, y_test\n",
    "# For TabTransformer you also need: pack_inputs, X_test_cat, X_test_num_scaled\n",
    "\n",
    "probs = {}  # model name -> predicted probabilities on test set\n",
    "\n",
    "# Logistic Regression\n",
    "try:\n",
    "    y_prob_lr = lr.predict_proba(X_test)[:, 1]\n",
    "    probs[\"LogReg\"] = y_prob_lr\n",
    "    print(\"Collected probs: LogReg\")\n",
    "except Exception as e:\n",
    "    print(\"Skip LogReg:\", e)\n",
    "\n",
    "# Random Forest\n",
    "try:\n",
    "    y_prob_rf = rf.predict_proba(X_test)[:, 1]\n",
    "    probs[\"RandomForest\"] = y_prob_rf\n",
    "    print(\"Collected probs: RandomForest\")\n",
    "except Exception as e:\n",
    "    print(\"Skip RandomForest:\", e)\n",
    "\n",
    "# TabTransformer\n",
    "try:\n",
    "    y_prob_tabtr = tabtr.predict(pack_inputs(X_test_cat, X_test_num_scaled), batch_size=2048).ravel()\n",
    "    probs[\"TabTransformer\"] = y_prob_tabtr\n",
    "    print(\"Collected probs: TabTransformer\")\n",
    "except Exception as e:\n",
    "    print(\"Skip TabTransformer:\", e)\n",
    "\n",
    "assert len(probs) > 0, \"No model probabilities collected. Make sure the models are trained.\"\n"
   ]
  },
  {
   "cell_type": "code",
   "execution_count": 65,
   "metadata": {},
   "outputs": [
    {
     "data": {
      "text/html": [
       "<div>\n",
       "<style scoped>\n",
       "    .dataframe tbody tr th:only-of-type {\n",
       "        vertical-align: middle;\n",
       "    }\n",
       "\n",
       "    .dataframe tbody tr th {\n",
       "        vertical-align: top;\n",
       "    }\n",
       "\n",
       "    .dataframe thead th {\n",
       "        text-align: right;\n",
       "    }\n",
       "</style>\n",
       "<table border=\"1\" class=\"dataframe\">\n",
       "  <thead>\n",
       "    <tr style=\"text-align: right;\">\n",
       "      <th></th>\n",
       "      <th>model</th>\n",
       "      <th>AP(PR AUC)</th>\n",
       "      <th>ROC AUC</th>\n",
       "    </tr>\n",
       "  </thead>\n",
       "  <tbody>\n",
       "    <tr>\n",
       "      <th>2</th>\n",
       "      <td>TabTransformer</td>\n",
       "      <td>0.653341</td>\n",
       "      <td>0.948472</td>\n",
       "    </tr>\n",
       "    <tr>\n",
       "      <th>1</th>\n",
       "      <td>RandomForest</td>\n",
       "      <td>0.650876</td>\n",
       "      <td>0.977722</td>\n",
       "    </tr>\n",
       "    <tr>\n",
       "      <th>0</th>\n",
       "      <td>LogReg</td>\n",
       "      <td>0.006103</td>\n",
       "      <td>0.496793</td>\n",
       "    </tr>\n",
       "  </tbody>\n",
       "</table>\n",
       "</div>"
      ],
      "text/plain": [
       "            model  AP(PR AUC)   ROC AUC\n",
       "2  TabTransformer    0.653341  0.948472\n",
       "1    RandomForest    0.650876  0.977722\n",
       "0          LogReg    0.006103  0.496793"
      ]
     },
     "metadata": {},
     "output_type": "display_data"
    }
   ],
   "source": [
    "from sklearn.metrics import average_precision_score, roc_auc_score\n",
    "import pandas as pd\n",
    "\n",
    "rows = []\n",
    "for name, p in probs.items():\n",
    "    ap  = average_precision_score(y_test, p)\n",
    "    roc = roc_auc_score(y_test, p)\n",
    "    rows.append({\"model\": name, \"AP(PR AUC)\": ap, \"ROC AUC\": roc})\n",
    "\n",
    "summary = pd.DataFrame(rows).sort_values(\"AP(PR AUC)\", ascending=False)\n",
    "display(summary)\n"
   ]
  },
  {
   "cell_type": "code",
   "execution_count": 66,
   "metadata": {
    "tags": [
     "Threshold tuning per model + reports"
    ]
   },
   "outputs": [
    {
     "name": "stdout",
     "output_type": "stream",
     "text": [
      "\n",
      "=== LogReg ===\n",
      "Chosen threshold = 0.5000  (maxF1);  Precision=0.011, Recall=0.032\n",
      "              precision    recall  f1-score   support\n",
      "\n",
      "           0     0.9943    0.9838    0.9890    328302\n",
      "           1     0.0114    0.0320    0.0168      1909\n",
      "\n",
      "    accuracy                         0.9783    330211\n",
      "   macro avg     0.5028    0.5079    0.5029    330211\n",
      "weighted avg     0.9886    0.9783    0.9834    330211\n",
      "\n",
      "Confusion matrix:\n",
      " [[322990   5312]\n",
      " [  1848     61]]\n",
      "\n",
      "=== RandomForest ===\n",
      "Chosen threshold = 0.5082  (constraint);  Precision=0.300, Recall=0.821\n",
      "              precision    recall  f1-score   support\n",
      "\n",
      "           0     0.9990    0.9889    0.9939    328302\n",
      "           1     0.3000    0.8214    0.4395      1909\n",
      "\n",
      "    accuracy                         0.9879    330211\n",
      "   macro avg     0.6495    0.9051    0.7167    330211\n",
      "weighted avg     0.9949    0.9879    0.9907    330211\n",
      "\n",
      "Confusion matrix:\n",
      " [[324644   3658]\n",
      " [   341   1568]]\n",
      "\n",
      "=== TabTransformer ===\n",
      "Chosen threshold = 0.7927  (constraint);  Precision=0.300, Recall=0.747\n",
      "              precision    recall  f1-score   support\n",
      "\n",
      "           0     0.9985    0.9899    0.9942    328302\n",
      "           1     0.3000    0.7470    0.4281      1909\n",
      "\n",
      "    accuracy                         0.9885    330211\n",
      "   macro avg     0.6493    0.8684    0.7111    330211\n",
      "weighted avg     0.9945    0.9885    0.9909    330211\n",
      "\n",
      "Confusion matrix:\n",
      " [[324975   3327]\n",
      " [   483   1426]]\n"
     ]
    }
   ],
   "source": [
    "import numpy as np\n",
    "from sklearn.metrics import precision_recall_curve, classification_report, confusion_matrix\n",
    "\n",
    "def choose_threshold(y_true, y_prob, min_recall=0.70, min_precision=0.30):\n",
    "    \"\"\"Return threshold that first satisfies both constraints; if none, fallback to max-F1 threshold.\"\"\"\n",
    "    prec, rec, th = precision_recall_curve(y_true, y_prob)\n",
    "    idx = np.where((rec >= min_recall) & (prec >= min_precision))[0]\n",
    "    if len(idx) > 0:\n",
    "        tidx = idx[0]\n",
    "        return th[tidx], float(prec[tidx]), float(rec[tidx]), \"constraint\"\n",
    "    # fallback to max F1\n",
    "    f1 = 2 * (prec * rec) / (prec + rec + 1e-12)\n",
    "    best = np.nanargmax(f1[:-1])  # thresholds shorter by 1\n",
    "    return th[best], float(prec[best]), float(rec[best]), \"maxF1\"\n",
    "\n",
    "for name, p in probs.items():\n",
    "    th, P, R, how = choose_threshold(y_test, p, min_recall=0.70, min_precision=0.30)\n",
    "    y_pred = (p >= th).astype(int)\n",
    "    print(f\"\\n=== {name} ===\")\n",
    "    print(f\"Chosen threshold = {th:.4f}  ({how});  Precision={P:.3f}, Recall={R:.3f}\")\n",
    "    print(classification_report(y_test, y_pred, digits=4))\n",
    "    cm = confusion_matrix(y_test, y_pred)\n",
    "    print(\"Confusion matrix:\\n\", cm)\n"
   ]
  },
  {
   "cell_type": "code",
   "execution_count": 67,
   "metadata": {},
   "outputs": [
    {
     "data": {
      "image/png": "[encoded data removed]",
      "text/plain": [
       "<Figure size 700x500 with 1 Axes>"
      ]
     },
     "metadata": {},
     "output_type": "display_data"
    }
   ],
   "source": [
    "#Overlay Precision–Recall curves (all models)\n",
    "import matplotlib.pyplot as plt\n",
    "from sklearn.metrics import precision_recall_curve, average_precision_score\n",
    "\n",
    "plt.figure(figsize=(7,5))\n",
    "for name, p in probs.items():\n",
    "    ap = average_precision_score(y_test, p)\n",
    "    prec, rec, _ = precision_recall_curve(y_test, p)\n",
    "    plt.plot(rec, prec, label=f\"{name} (AP={ap:.3f})\")\n",
    "\n",
    "plt.xlabel(\"Recall\")\n",
    "plt.ylabel(\"Precision\")\n",
    "plt.title(\"Precision–Recall Curves\")\n",
    "plt.grid(True)\n",
    "plt.legend()\n",
    "plt.show()\n"
   ]
  },
  {
   "cell_type": "code",
   "execution_count": 69,
   "metadata": {},
   "outputs": [
    {
     "name": "stdout",
     "output_type": "stream",
     "text": [
      "              Model  AP (PR AUC)  ROC AUC  Recall @ P≥0.30  Precision @ R≥0.80\n",
      "     TabTransformer        0.653    0.948            0.747               0.140\n",
      "      Random Forest        0.651    0.978            0.821               0.331\n",
      "Logistic Regression        0.006    0.497            0.000               0.006\n",
      "\n",
      "Saved → model_comparison_summary.csv\n"
     ]
    }
   ],
   "source": [
    "# Model comparison table (English)\n",
    "\n",
    "import numpy as np\n",
    "import pandas as pd\n",
    "from sklearn.metrics import (\n",
    "    average_precision_score, roc_auc_score,\n",
    "    precision_recall_curve\n",
    ")\n",
    "\n",
    "# ---- helper metrics ----\n",
    "def recall_at_precision(y_true, y_prob, p_threshold=0.30):\n",
    "    prec, rec, _ = precision_recall_curve(y_true, y_prob)\n",
    "    mask = prec >= p_threshold\n",
    "    return float(rec[mask].max()) if mask.any() else np.nan\n",
    "\n",
    "def precision_at_recall(y_true, y_prob, r_threshold=0.80):\n",
    "    prec, rec, _ = precision_recall_curve(y_true, y_prob)\n",
    "    mask = rec >= r_threshold\n",
    "    return float(prec[mask].max()) if mask.any() else np.nan\n",
    "\n",
    "# ---- collect model probabilities that exist in your notebook ----\n",
    "probs = {}\n",
    "if \"y_prob_lr\" in globals():      probs[\"Logistic Regression\"] = y_prob_lr\n",
    "if \"y_prob_rf\" in globals():      probs[\"Random Forest\"] = y_prob_rf\n",
    "if \"y_prob_tabtr\" in globals():   probs[\"TabTransformer\"] = y_prob_tabtr\n",
    "\n",
    "assert len(probs) > 0, \"No model probabilities found. Make sure you ran predictions.\"\n",
    "\n",
    "# ---- build summary ----\n",
    "rows = []\n",
    "for name, p in probs.items():\n",
    "    ap  = average_precision_score(y_test, p)\n",
    "    roc = roc_auc_score(y_test, p)\n",
    "    r_at_p = recall_at_precision(y_test, p, p_threshold=0.30)\n",
    "    p_at_r = precision_at_recall(y_test, p, r_threshold=0.80)\n",
    "    rows.append({\n",
    "        \"Model\": name,\n",
    "        \"AP (PR AUC)\": round(ap, 3),\n",
    "        \"ROC AUC\": round(roc, 3),\n",
    "        \"Recall @ P≥0.30\": None if np.isnan(r_at_p) else round(r_at_p, 3),\n",
    "        \"Precision @ R≥0.80\": None if np.isnan(p_at_r) else round(p_at_r, 3),\n",
    "    })\n",
    "\n",
    "summary = pd.DataFrame(rows).sort_values(\"AP (PR AUC)\", ascending=False).reset_index(drop=True)\n",
    "\n",
    "# show & save\n",
    "print(summary.to_string(index=False))\n",
    "\n",
    "print(\"\\nSaved → model_comparison_summary.csv\")\n"
   ]
  },
  {
   "cell_type": "code",
   "execution_count": 71,
   "metadata": {},
   "outputs": [],
   "source": [
    "\n",
    "# Example with best thresholds (replace with your computed ones)\n",
    "best_th_rf = 0.5082         # from earlier PR curve search\n",
    "best_th_tabtr = 0.47        # example, compute from TabTransformer PR curve\n",
    "\n",
    "# Random Forest\n",
    "rf_out[\"pred_rf\"] = (y_prob_rf >= best_th_rf).astype(int)\n",
    "\n",
    "# TabTransformer\n",
    "tabtr_out[\"pred_tabtr\"] = (y_prob_tabtr >= best_th_tabtr).astype(int)\n"
   ]
  }
 ],
 "metadata": {
  "kernelspec": {
   "display_name": "Python 3",
   "language": "python",
   "name": "python3"
  },
  "language_info": {
   "codemirror_mode": {
    "name": "ipython",
    "version": 3
   },
   "file_extension": ".py",
   "mimetype": "text/x-python",
   "name": "python",
   "nbconvert_exporter": "python",
   "pygments_lexer": "ipython3",
   "version": "3.10.18"
  }
 },
 "nbformat": 4,
 "nbformat_minor": 2
}
